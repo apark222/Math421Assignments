{
 "cells": [
  {
   "cell_type": "markdown",
   "metadata": {},
   "source": [
    "# Assignment 19- Balancing Data with Repetition"
   ]
  },
  {
   "cell_type": "markdown",
   "metadata": {},
   "source": [
    "## Upload and Clean Data"
   ]
  },
  {
   "cell_type": "code",
   "execution_count": 1,
   "metadata": {},
   "outputs": [
    {
     "name": "stdout",
     "output_type": "stream",
     "text": [
      "'data.frame':\t5960 obs. of  13 variables:\n",
      " $ BAD    : int  1 1 1 1 0 1 1 1 1 1 ...\n",
      " $ LOAN   : int  1100 1300 1500 1500 1700 1700 1800 1800 2000 2000 ...\n",
      " $ MORTDUE: num  25860 70053 13500 NA 97800 ...\n",
      " $ VALUE  : num  39025 68400 16700 NA 112000 ...\n",
      " $ REASON : Factor w/ 2 levels \"DebtCon\",\"HomeImp\": 2 2 2 NA 2 2 2 2 2 2 ...\n",
      " $ JOB    : Factor w/ 6 levels \"Mgr\",\"Office\",..: 3 3 3 NA 2 3 3 3 3 5 ...\n",
      " $ YOJ    : num  10.5 7 4 NA 3 9 5 11 3 16 ...\n",
      " $ DEROG  : int  0 0 0 NA 0 0 3 0 0 0 ...\n",
      " $ DELINQ : int  0 2 0 NA 0 0 2 0 2 0 ...\n",
      " $ CLAGE  : num  94.4 121.8 149.5 NA 93.3 ...\n",
      " $ NINQ   : int  1 0 1 NA 0 1 1 0 1 0 ...\n",
      " $ CLNO   : int  9 14 10 NA 14 8 17 8 12 13 ...\n",
      " $ DEBTINC: num  NA NA NA NA NA ...\n"
     ]
    },
    {
     "data": {
      "text/html": [
       "5271"
      ],
      "text/latex": [
       "5271"
      ],
      "text/markdown": [
       "5271"
      ],
      "text/plain": [
       "[1] 5271"
      ]
     },
     "metadata": {},
     "output_type": "display_data"
    },
    {
     "data": {
      "text/html": [
       "0"
      ],
      "text/latex": [
       "0"
      ],
      "text/markdown": [
       "0"
      ],
      "text/plain": [
       "[1] 0"
      ]
     },
     "metadata": {},
     "output_type": "display_data"
    }
   ],
   "source": [
    "loans <- read.csv(\"C:/Users/student/Documents/Data Analysis Practice Data Sets/Default_Loan_Data.csv\", \n",
    "                  na.strings = c(NA, \"\"))\n",
    "str(loans)\n",
    "loans$BAD <- as.factor(loans$BAD)\n",
    "\n",
    "library(Quick.Analysis)\n",
    "sum(is.na(loans))\n",
    "loans.clean<- quick_clean(loans, \"impute\")\n",
    "sum(is.na(loans.clean))"
   ]
  },
  {
   "cell_type": "markdown",
   "metadata": {},
   "source": [
    "## 1. Train a random forest using undersampling. Let rf1 to be the trained model"
   ]
  },
  {
   "cell_type": "code",
   "execution_count": 2,
   "metadata": {},
   "outputs": [
    {
     "name": "stderr",
     "output_type": "stream",
     "text": [
      "Loading required package: lattice\n",
      "Loading required package: ggplot2\n"
     ]
    }
   ],
   "source": [
    "library(caret)\n",
    "library(ranger)\n",
    "\n",
    "split <- createDataPartition(loans.clean$BAD, p = .7, list=FALSE, times=1)\n",
    "training <- loans.clean[split,]\n",
    "testing <- loans.clean[-split,]\n",
    "\n",
    "train1 <- training[training$BAD == \"1\",]\n",
    "train0 <- training[training$BAD == \"0\",]\n",
    "\n",
    "n1 <- nrow(train1)\n",
    "n0 <- nrow(train0)\n",
    "\n",
    "train00 <- train0[sample(1:n0, n1),]\n",
    "train_under <- rbind(train00, train1)\n",
    "\n",
    "rf1 <- ranger(BAD~., data=train_under)"
   ]
  },
  {
   "cell_type": "markdown",
   "metadata": {},
   "source": [
    "\n",
    "## 2. Use rf1 to produce the prediction for the test set. "
   ]
  },
  {
   "cell_type": "code",
   "execution_count": 4,
   "metadata": {},
   "outputs": [
    {
     "data": {
      "text/html": [
       "<ol class=list-inline>\n",
       "\t<li>2</li>\n",
       "\t<li>2</li>\n",
       "\t<li>2</li>\n",
       "\t<li>2</li>\n",
       "\t<li>2</li>\n",
       "</ol>\n"
      ],
      "text/latex": [
       "\\begin{enumerate*}\n",
       "\\item 2\n",
       "\\item 2\n",
       "\\item 2\n",
       "\\item 2\n",
       "\\item 2\n",
       "\\end{enumerate*}\n"
      ],
      "text/markdown": [
       "1. 2\n",
       "2. 2\n",
       "3. 2\n",
       "4. 2\n",
       "5. 2\n",
       "\n",
       "\n"
      ],
      "text/plain": [
       "[1] 2 2 2 2 2"
      ]
     },
     "metadata": {},
     "output_type": "display_data"
    }
   ],
   "source": [
    "n=1000\n",
    "m = matrix(0, nrow = nrow(testing), ncol = n)\n",
    "m[,1] <- predict(rf1, data = testing, positive = \"1\")$predictions\n",
    "m[1:5,1]"
   ]
  },
  {
   "cell_type": "markdown",
   "metadata": {},
   "source": [
    "## 3. Redo 1 and 2 to create c2, c3, c4,…, c1000"
   ]
  },
  {
   "cell_type": "code",
   "execution_count": 5,
   "metadata": {},
   "outputs": [],
   "source": [
    "library(ranger)\n",
    "n=1000\n",
    "\n",
    "for (i in 2:n){\n",
    "  train00 <- train0[sample(1:n0, n1),]\n",
    "  train_under <- rbind(train00, train1)\n",
    "  tree_under <- ranger(BAD~., data=train_under)\n",
    "  m[,i] <- predict(tree_under, data = testing, positive = \"1\")$prediction\n",
    "}\n",
    "\n",
    "m <- m - 1"
   ]
  },
  {
   "cell_type": "markdown",
   "metadata": {},
   "source": [
    "## 5.\tLet cc be a row mode of mc.  The vector cc is the majority vote of 1000 predictions for the test set. "
   ]
  },
  {
   "cell_type": "code",
   "execution_count": 6,
   "metadata": {},
   "outputs": [],
   "source": [
    "most_frequent <- function(x){\n",
    "   unique_x <- unique(x)\n",
    "   unique_x[which.max(tabulate(match(x, unique_x)))]\n",
    "}\n",
    "\n",
    "cc <- apply(m, 1, most_frequent)\n",
    "cc <- as.factor(cc)"
   ]
  },
  {
   "cell_type": "markdown",
   "metadata": {},
   "source": [
    "## 6.\tProduce the confusion matrix based on cc and the true target."
   ]
  },
  {
   "cell_type": "code",
   "execution_count": 7,
   "metadata": {},
   "outputs": [
    {
     "data": {
      "text/plain": [
       "Confusion Matrix and Statistics\n",
       "\n",
       "          Reference\n",
       "Prediction    0    1\n",
       "         0 1293   39\n",
       "         1  138  317\n",
       "                                          \n",
       "               Accuracy : 0.901           \n",
       "                 95% CI : (0.8862, 0.9144)\n",
       "    No Information Rate : 0.8008          \n",
       "    P-Value [Acc > NIR] : < 2.2e-16       \n",
       "                                          \n",
       "                  Kappa : 0.7189          \n",
       " Mcnemar's Test P-Value : 1.757e-13       \n",
       "                                          \n",
       "            Sensitivity : 0.8904          \n",
       "            Specificity : 0.9036          \n",
       "         Pos Pred Value : 0.6967          \n",
       "         Neg Pred Value : 0.9707          \n",
       "             Prevalence : 0.1992          \n",
       "         Detection Rate : 0.1774          \n",
       "   Detection Prevalence : 0.2546          \n",
       "      Balanced Accuracy : 0.8970          \n",
       "                                          \n",
       "       'Positive' Class : 1               \n",
       "                                          "
      ]
     },
     "metadata": {},
     "output_type": "display_data"
    }
   ],
   "source": [
    "confusionMatrix(cc, reference = testing$BAD, positive = \"1\")"
   ]
  }
 ],
 "metadata": {
  "kernelspec": {
   "display_name": "R",
   "language": "R",
   "name": "ir"
  },
  "language_info": {
   "codemirror_mode": "r",
   "file_extension": ".r",
   "mimetype": "text/x-r-source",
   "name": "R",
   "pygments_lexer": "r",
   "version": "3.5.1"
  }
 },
 "nbformat": 4,
 "nbformat_minor": 2
}
