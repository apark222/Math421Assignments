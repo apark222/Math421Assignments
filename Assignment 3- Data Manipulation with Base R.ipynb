{
 "cells": [
  {
   "cell_type": "markdown",
   "metadata": {},
   "source": [
    "# Assignment 3- Data Manipulation with Base R"
   ]
  },
  {
   "cell_type": "markdown",
   "metadata": {},
   "source": [
    "This assignment deals with cleaning data to get rid of missing values and creating new variables that can be used later for analysis. This is done using the \"titanic\" data set. "
   ]
  },
  {
   "cell_type": "markdown",
   "metadata": {},
   "source": [
    "### Upload data set and change variable types"
   ]
  },
  {
   "cell_type": "code",
   "execution_count": 1,
   "metadata": {},
   "outputs": [
    {
     "data": {
      "text/html": [
       "'C:/Users/student/Documents/Data Analysis Practice Data Sets/Titanic Practice'"
      ],
      "text/latex": [
       "'C:/Users/student/Documents/Data Analysis Practice Data Sets/Titanic Practice'"
      ],
      "text/markdown": [
       "'C:/Users/student/Documents/Data Analysis Practice Data Sets/Titanic Practice'"
      ],
      "text/plain": [
       "[1] \"C:/Users/student/Documents/Data Analysis Practice Data Sets/Titanic Practice\""
      ]
     },
     "metadata": {},
     "output_type": "display_data"
    }
   ],
   "source": [
    "setwd(\"~/Data Analysis Practice Data Sets/Titanic Practice\")\n",
    "getwd()\n",
    "titanic <- read.csv(\"train.csv\")\n",
    "titanic$Survived = factor(titanic$Survived)\n",
    "titanic$Pclass = factor(titanic$Pclass)"
   ]
  },
  {
   "cell_type": "markdown",
   "metadata": {},
   "source": [
    "### 1.) Check for missing data"
   ]
  },
  {
   "cell_type": "code",
   "execution_count": 2,
   "metadata": {},
   "outputs": [
    {
     "data": {
      "text/html": [
       "177"
      ],
      "text/latex": [
       "177"
      ],
      "text/markdown": [
       "177"
      ],
      "text/plain": [
       "[1] 177"
      ]
     },
     "metadata": {},
     "output_type": "display_data"
    },
    {
     "data": {
      "text/html": [
       "177"
      ],
      "text/latex": [
       "177"
      ],
      "text/markdown": [
       "177"
      ],
      "text/plain": [
       "[1] 177"
      ]
     },
     "metadata": {},
     "output_type": "display_data"
    }
   ],
   "source": [
    "#Total missing values in titanic data set:\n",
    "sum(is.na(titanic))\n",
    "\n",
    "#Total missing values in the Age column:\n",
    "sum(is.na(titanic$Age))"
   ]
  },
  {
   "cell_type": "markdown",
   "metadata": {},
   "source": [
    "### 2.) Replace missing numeric values with variable average"
   ]
  },
  {
   "cell_type": "code",
   "execution_count": 3,
   "metadata": {},
   "outputs": [],
   "source": [
    "titanic[is.na(titanic$Age),]$Age = mean(titanic$Age, na.rm=TRUE)"
   ]
  },
  {
   "cell_type": "markdown",
   "metadata": {},
   "source": [
    "### 3 & 4.) Remove rows with missing categorical data and delete unnecessary columns"
   ]
  },
  {
   "cell_type": "code",
   "execution_count": 6,
   "metadata": {},
   "outputs": [
    {
     "data": {
      "text/html": [
       "<table>\n",
       "<thead><tr><th scope=col>Survived</th><th scope=col>Pclass</th><th scope=col>Sex</th><th scope=col>Age</th><th scope=col>SibSp</th><th scope=col>Parch</th><th scope=col>Fare</th><th scope=col>Embarked</th></tr></thead>\n",
       "<tbody>\n",
       "\t<tr><td>0       </td><td>3       </td><td>male    </td><td>22.00000</td><td>1       </td><td>0       </td><td> 7.2500 </td><td>S       </td></tr>\n",
       "\t<tr><td>1       </td><td>1       </td><td>female  </td><td>38.00000</td><td>1       </td><td>0       </td><td>71.2833 </td><td>C       </td></tr>\n",
       "\t<tr><td>1       </td><td>3       </td><td>female  </td><td>26.00000</td><td>0       </td><td>0       </td><td> 7.9250 </td><td>S       </td></tr>\n",
       "\t<tr><td>1       </td><td>1       </td><td>female  </td><td>35.00000</td><td>1       </td><td>0       </td><td>53.1000 </td><td>S       </td></tr>\n",
       "\t<tr><td>0       </td><td>3       </td><td>male    </td><td>35.00000</td><td>0       </td><td>0       </td><td> 8.0500 </td><td>S       </td></tr>\n",
       "\t<tr><td>0       </td><td>3       </td><td>male    </td><td>29.69912</td><td>0       </td><td>0       </td><td> 8.4583 </td><td>Q       </td></tr>\n",
       "\t<tr><td>0       </td><td>1       </td><td>male    </td><td>54.00000</td><td>0       </td><td>0       </td><td>51.8625 </td><td>S       </td></tr>\n",
       "\t<tr><td>0       </td><td>3       </td><td>male    </td><td> 2.00000</td><td>3       </td><td>1       </td><td>21.0750 </td><td>S       </td></tr>\n",
       "\t<tr><td>1       </td><td>3       </td><td>female  </td><td>27.00000</td><td>0       </td><td>2       </td><td>11.1333 </td><td>S       </td></tr>\n",
       "\t<tr><td>1       </td><td>2       </td><td>female  </td><td>14.00000</td><td>1       </td><td>0       </td><td>30.0708 </td><td>C       </td></tr>\n",
       "</tbody>\n",
       "</table>\n"
      ],
      "text/latex": [
       "\\begin{tabular}{r|llllllll}\n",
       " Survived & Pclass & Sex & Age & SibSp & Parch & Fare & Embarked\\\\\n",
       "\\hline\n",
       "\t 0        & 3        & male     & 22.00000 & 1        & 0        &  7.2500  & S       \\\\\n",
       "\t 1        & 1        & female   & 38.00000 & 1        & 0        & 71.2833  & C       \\\\\n",
       "\t 1        & 3        & female   & 26.00000 & 0        & 0        &  7.9250  & S       \\\\\n",
       "\t 1        & 1        & female   & 35.00000 & 1        & 0        & 53.1000  & S       \\\\\n",
       "\t 0        & 3        & male     & 35.00000 & 0        & 0        &  8.0500  & S       \\\\\n",
       "\t 0        & 3        & male     & 29.69912 & 0        & 0        &  8.4583  & Q       \\\\\n",
       "\t 0        & 1        & male     & 54.00000 & 0        & 0        & 51.8625  & S       \\\\\n",
       "\t 0        & 3        & male     &  2.00000 & 3        & 1        & 21.0750  & S       \\\\\n",
       "\t 1        & 3        & female   & 27.00000 & 0        & 2        & 11.1333  & S       \\\\\n",
       "\t 1        & 2        & female   & 14.00000 & 1        & 0        & 30.0708  & C       \\\\\n",
       "\\end{tabular}\n"
      ],
      "text/markdown": [
       "\n",
       "Survived | Pclass | Sex | Age | SibSp | Parch | Fare | Embarked | \n",
       "|---|---|---|---|---|---|---|---|---|---|\n",
       "| 0        | 3        | male     | 22.00000 | 1        | 0        |  7.2500  | S        | \n",
       "| 1        | 1        | female   | 38.00000 | 1        | 0        | 71.2833  | C        | \n",
       "| 1        | 3        | female   | 26.00000 | 0        | 0        |  7.9250  | S        | \n",
       "| 1        | 1        | female   | 35.00000 | 1        | 0        | 53.1000  | S        | \n",
       "| 0        | 3        | male     | 35.00000 | 0        | 0        |  8.0500  | S        | \n",
       "| 0        | 3        | male     | 29.69912 | 0        | 0        |  8.4583  | Q        | \n",
       "| 0        | 1        | male     | 54.00000 | 0        | 0        | 51.8625  | S        | \n",
       "| 0        | 3        | male     |  2.00000 | 3        | 1        | 21.0750  | S        | \n",
       "| 1        | 3        | female   | 27.00000 | 0        | 2        | 11.1333  | S        | \n",
       "| 1        | 2        | female   | 14.00000 | 1        | 0        | 30.0708  | C        | \n",
       "\n",
       "\n"
      ],
      "text/plain": [
       "   Survived Pclass Sex    Age      SibSp Parch Fare    Embarked\n",
       "1  0        3      male   22.00000 1     0      7.2500 S       \n",
       "2  1        1      female 38.00000 1     0     71.2833 C       \n",
       "3  1        3      female 26.00000 0     0      7.9250 S       \n",
       "4  1        1      female 35.00000 1     0     53.1000 S       \n",
       "5  0        3      male   35.00000 0     0      8.0500 S       \n",
       "6  0        3      male   29.69912 0     0      8.4583 Q       \n",
       "7  0        1      male   54.00000 0     0     51.8625 S       \n",
       "8  0        3      male    2.00000 3     1     21.0750 S       \n",
       "9  1        3      female 27.00000 0     2     11.1333 S       \n",
       "10 1        2      female 14.00000 1     0     30.0708 C       "
      ]
     },
     "metadata": {},
     "output_type": "display_data"
    }
   ],
   "source": [
    "titanic$Cabin = NULL\n",
    "titanic$Name = NULL\n",
    "titanic$PassengerId = NULL\n",
    "titanic$Ticket = NULL\n",
    "titanic_clean = titanic[!titanic$Embarked == \"\", ]\n",
    "titanic_clean = titanic_clean[complete.cases(titanic_clean),]\n",
    "titanic_clean[1:10,]"
   ]
  },
  {
   "cell_type": "markdown",
   "metadata": {},
   "source": [
    "### 5-12.) Descriptive statistics"
   ]
  },
  {
   "cell_type": "code",
   "execution_count": 7,
   "metadata": {},
   "outputs": [
    {
     "data": {
      "text/html": [
       "29.6534463706743"
      ],
      "text/latex": [
       "29.6534463706743"
      ],
      "text/markdown": [
       "29.6534463706743"
      ],
      "text/plain": [
       "[1] 29.65345"
      ]
     },
     "metadata": {},
     "output_type": "display_data"
    },
    {
     "data": {
      "text/html": [
       "28.0770937028658"
      ],
      "text/latex": [
       "28.0770937028658"
      ],
      "text/markdown": [
       "28.0770937028658"
      ],
      "text/plain": [
       "[1] 28.07709"
      ]
     },
     "metadata": {},
     "output_type": "display_data"
    },
    {
     "data": {
      "text/html": [
       "58.6896"
      ],
      "text/latex": [
       "58.6896"
      ],
      "text/markdown": [
       "58.6896"
      ],
      "text/plain": [
       "[1] 58.6896"
      ]
     },
     "metadata": {},
     "output_type": "display_data"
    },
    {
     "data": {
      "text/html": [
       "10.5"
      ],
      "text/latex": [
       "10.5"
      ],
      "text/markdown": [
       "10.5"
      ],
      "text/plain": [
       "[1] 10.5"
      ]
     },
     "metadata": {},
     "output_type": "display_data"
    },
    {
     "data": {
      "text/html": [
       "14.45625"
      ],
      "text/latex": [
       "14.45625"
      ],
      "text/markdown": [
       "14.45625"
      ],
      "text/plain": [
       "[1] 14.45625"
      ]
     },
     "metadata": {},
     "output_type": "display_data"
    },
    {
     "data": {
      "text/html": [
       "29.8495588235294"
      ],
      "text/latex": [
       "29.8495588235294"
      ],
      "text/markdown": [
       "29.8495588235294"
      ],
      "text/plain": [
       "[1] 29.84956"
      ]
     },
     "metadata": {},
     "output_type": "display_data"
    },
    {
     "data": {
      "text/html": [
       "49.1796617647059"
      ],
      "text/latex": [
       "49.1796617647059"
      ],
      "text/markdown": [
       "49.1796617647059"
      ],
      "text/plain": [
       "[1] 49.17966"
      ]
     },
     "metadata": {},
     "output_type": "display_data"
    },
    {
     "data": {
      "text/html": [
       "<table>\n",
       "<thead><tr><th scope=col>Pclass</th><th scope=col>x</th></tr></thead>\n",
       "<tbody>\n",
       "\t<tr><td>1        </td><td>106.56194</td></tr>\n",
       "\t<tr><td>2        </td><td> 22.28899</td></tr>\n",
       "\t<tr><td>3        </td><td> 12.46453</td></tr>\n",
       "</tbody>\n",
       "</table>\n"
      ],
      "text/latex": [
       "\\begin{tabular}{r|ll}\n",
       " Pclass & x\\\\\n",
       "\\hline\n",
       "\t 1         & 106.56194\\\\\n",
       "\t 2         &  22.28899\\\\\n",
       "\t 3         &  12.46453\\\\\n",
       "\\end{tabular}\n"
      ],
      "text/markdown": [
       "\n",
       "Pclass | x | \n",
       "|---|---|---|\n",
       "| 1         | 106.56194 | \n",
       "| 2         |  22.28899 | \n",
       "| 3         |  12.46453 | \n",
       "\n",
       "\n"
      ],
      "text/plain": [
       "  Pclass x        \n",
       "1 1      106.56194\n",
       "2 2       22.28899\n",
       "3 3       12.46453"
      ]
     },
     "metadata": {},
     "output_type": "display_data"
    },
    {
     "data": {
      "text/html": [
       "0.593301435406699"
      ],
      "text/latex": [
       "0.593301435406699"
      ],
      "text/markdown": [
       "0.593301435406699"
      ],
      "text/plain": [
       "[1] 0.5933014"
      ]
     },
     "metadata": {},
     "output_type": "display_data"
    }
   ],
   "source": [
    "#5. Mean age:\n",
    "mean(titanic_clean$Age)\n",
    "\n",
    "#6. Mean age of female passengers:\n",
    "mean(titanic_clean[titanic_clean$Sex == \"female\", ]$Age)\n",
    "\n",
    "#6. Median fare of passengers in class 1:\n",
    "median(titanic_clean[titanic_clean$Pclass == \"1\",]$Fare)\n",
    "\n",
    "#7. Median fare of passengers not in class 1:\n",
    "median(titanic_clean[!titanic_clean$Pclass == \"1\",]$Fare)\n",
    "\n",
    "#8. Median fare of the female passengers that are not in Class 1:\n",
    "median(titanic_clean[((titanic_clean$Pclass != \"1\") & (titanic_clean$Sex == \"female\")),]$Fare)\n",
    "\n",
    "#9. Median age of survived passengers who are female and Class 1 or Class 2:\n",
    "median(titanic_clean[((titanic_clean$Sex == \"female\") & \n",
    "                      (titanic_clean$Pclass == \"1\") | (titanic_clean$Pclass == \"2\")),]$Age)\n",
    "\n",
    "#10. Mean fare of female teenagers survived passengers:\n",
    "mean(titanic_clean[((titanic_clean$Sex == \"female\") & \n",
    "                    (titanic_clean$Age <= 19) & \n",
    "                    (titanic_clean$Age >= 13) & \n",
    "                    (titanic_clean$Survived == \"1\")), ]$Fare)\n",
    "\n",
    "#11. Mean fare of female teenagers who survived passengers for each class:\n",
    "titanic_fs = titanic_clean[((titanic_clean$Sex == \"female\") & \n",
    "                            (titanic_clean$Survived == \"1\")),]\n",
    "aggregate(titanic_fs[,\"Fare\"], by=titanic_fs[c(\"Pclass\")], mean)\n",
    "              \n",
    "#12. Ratio of survivors for passengers who paid more than the average fare:\n",
    "titanic_more = titanic_clean[(titanic_clean$Fare > mean(titanic_clean$Fare)),]\n",
    "length(which(titanic_more$Survived == \"1\")) / (length(which(titanic_more$Survive == \"0\" | titanic_more$Survive == \"1\")))"
   ]
  },
  {
   "cell_type": "markdown",
   "metadata": {},
   "source": [
    "### Adding Aditional Columns (questions 13, 18, & 17)"
   ]
  },
  {
   "cell_type": "code",
   "execution_count": 11,
   "metadata": {},
   "outputs": [
    {
     "data": {
      "text/html": [
       "<table>\n",
       "<thead><tr><th scope=col>Survived</th><th scope=col>Pclass</th><th scope=col>Sex</th><th scope=col>Age</th><th scope=col>SibSp</th><th scope=col>Parch</th><th scope=col>Fare</th><th scope=col>Embarked</th><th scope=col>sfare</th><th scope=col>cfare</th><th scope=col>cage</th></tr></thead>\n",
       "<tbody>\n",
       "\t<tr><td>0          </td><td>3          </td><td>male       </td><td>22.00000   </td><td>1          </td><td>0          </td><td> 7.2500    </td><td>S          </td><td>-0.49995832</td><td>cheap      </td><td>2          </td></tr>\n",
       "\t<tr><td>1          </td><td>1          </td><td>female     </td><td>38.00000   </td><td>1          </td><td>0          </td><td>71.2833    </td><td>C          </td><td> 0.78850276</td><td>expensive  </td><td>3          </td></tr>\n",
       "\t<tr><td>1          </td><td>3          </td><td>female     </td><td>26.00000   </td><td>0          </td><td>0          </td><td> 7.9250    </td><td>S          </td><td>-0.48637615</td><td>cheap      </td><td>2          </td></tr>\n",
       "\t<tr><td>1          </td><td>1          </td><td>female     </td><td>35.00000   </td><td>1          </td><td>0          </td><td>53.1000    </td><td>S          </td><td> 0.42262322</td><td>expensive  </td><td>3          </td></tr>\n",
       "\t<tr><td>0          </td><td>3          </td><td>male       </td><td>35.00000   </td><td>0          </td><td>0          </td><td> 8.0500    </td><td>S          </td><td>-0.48386093</td><td>cheap      </td><td>3          </td></tr>\n",
       "\t<tr><td>0          </td><td>3          </td><td>male       </td><td>29.69912   </td><td>0          </td><td>0          </td><td> 8.4583    </td><td>Q          </td><td>-0.47564523</td><td>cheap      </td><td>2          </td></tr>\n",
       "\t<tr><td>0          </td><td>1          </td><td>male       </td><td>54.00000   </td><td>0          </td><td>0          </td><td>51.8625    </td><td>S          </td><td> 0.39772257</td><td>expensive  </td><td>5          </td></tr>\n",
       "\t<tr><td>0          </td><td>3          </td><td>male       </td><td> 2.00000   </td><td>3          </td><td>1          </td><td>21.0750    </td><td>S          </td><td>-0.22177534</td><td>cheap      </td><td>0          </td></tr>\n",
       "\t<tr><td>1          </td><td>3          </td><td>female     </td><td>27.00000   </td><td>0          </td><td>2          </td><td>11.1333    </td><td>S          </td><td>-0.42181959</td><td>cheap      </td><td>2          </td></tr>\n",
       "\t<tr><td>1          </td><td>2          </td><td>female     </td><td>14.00000   </td><td>1          </td><td>0          </td><td>30.0708    </td><td>C          </td><td>-0.04076424</td><td>cheap      </td><td>1          </td></tr>\n",
       "</tbody>\n",
       "</table>\n"
      ],
      "text/latex": [
       "\\begin{tabular}{r|lllllllllll}\n",
       " Survived & Pclass & Sex & Age & SibSp & Parch & Fare & Embarked & sfare & cfare & cage\\\\\n",
       "\\hline\n",
       "\t 0           & 3           & male        & 22.00000    & 1           & 0           &  7.2500     & S           & -0.49995832 & cheap       & 2          \\\\\n",
       "\t 1           & 1           & female      & 38.00000    & 1           & 0           & 71.2833     & C           &  0.78850276 & expensive   & 3          \\\\\n",
       "\t 1           & 3           & female      & 26.00000    & 0           & 0           &  7.9250     & S           & -0.48637615 & cheap       & 2          \\\\\n",
       "\t 1           & 1           & female      & 35.00000    & 1           & 0           & 53.1000     & S           &  0.42262322 & expensive   & 3          \\\\\n",
       "\t 0           & 3           & male        & 35.00000    & 0           & 0           &  8.0500     & S           & -0.48386093 & cheap       & 3          \\\\\n",
       "\t 0           & 3           & male        & 29.69912    & 0           & 0           &  8.4583     & Q           & -0.47564523 & cheap       & 2          \\\\\n",
       "\t 0           & 1           & male        & 54.00000    & 0           & 0           & 51.8625     & S           &  0.39772257 & expensive   & 5          \\\\\n",
       "\t 0           & 3           & male        &  2.00000    & 3           & 1           & 21.0750     & S           & -0.22177534 & cheap       & 0          \\\\\n",
       "\t 1           & 3           & female      & 27.00000    & 0           & 2           & 11.1333     & S           & -0.42181959 & cheap       & 2          \\\\\n",
       "\t 1           & 2           & female      & 14.00000    & 1           & 0           & 30.0708     & C           & -0.04076424 & cheap       & 1          \\\\\n",
       "\\end{tabular}\n"
      ],
      "text/markdown": [
       "\n",
       "Survived | Pclass | Sex | Age | SibSp | Parch | Fare | Embarked | sfare | cfare | cage | \n",
       "|---|---|---|---|---|---|---|---|---|---|\n",
       "| 0           | 3           | male        | 22.00000    | 1           | 0           |  7.2500     | S           | -0.49995832 | cheap       | 2           | \n",
       "| 1           | 1           | female      | 38.00000    | 1           | 0           | 71.2833     | C           |  0.78850276 | expensive   | 3           | \n",
       "| 1           | 3           | female      | 26.00000    | 0           | 0           |  7.9250     | S           | -0.48637615 | cheap       | 2           | \n",
       "| 1           | 1           | female      | 35.00000    | 1           | 0           | 53.1000     | S           |  0.42262322 | expensive   | 3           | \n",
       "| 0           | 3           | male        | 35.00000    | 0           | 0           |  8.0500     | S           | -0.48386093 | cheap       | 3           | \n",
       "| 0           | 3           | male        | 29.69912    | 0           | 0           |  8.4583     | Q           | -0.47564523 | cheap       | 2           | \n",
       "| 0           | 1           | male        | 54.00000    | 0           | 0           | 51.8625     | S           |  0.39772257 | expensive   | 5           | \n",
       "| 0           | 3           | male        |  2.00000    | 3           | 1           | 21.0750     | S           | -0.22177534 | cheap       | 0           | \n",
       "| 1           | 3           | female      | 27.00000    | 0           | 2           | 11.1333     | S           | -0.42181959 | cheap       | 2           | \n",
       "| 1           | 2           | female      | 14.00000    | 1           | 0           | 30.0708     | C           | -0.04076424 | cheap       | 1           | \n",
       "\n",
       "\n"
      ],
      "text/plain": [
       "   Survived Pclass Sex    Age      SibSp Parch Fare    Embarked sfare      \n",
       "1  0        3      male   22.00000 1     0      7.2500 S        -0.49995832\n",
       "2  1        1      female 38.00000 1     0     71.2833 C         0.78850276\n",
       "3  1        3      female 26.00000 0     0      7.9250 S        -0.48637615\n",
       "4  1        1      female 35.00000 1     0     53.1000 S         0.42262322\n",
       "5  0        3      male   35.00000 0     0      8.0500 S        -0.48386093\n",
       "6  0        3      male   29.69912 0     0      8.4583 Q        -0.47564523\n",
       "7  0        1      male   54.00000 0     0     51.8625 S         0.39772257\n",
       "8  0        3      male    2.00000 3     1     21.0750 S        -0.22177534\n",
       "9  1        3      female 27.00000 0     2     11.1333 S        -0.42181959\n",
       "10 1        2      female 14.00000 1     0     30.0708 C        -0.04076424\n",
       "   cfare     cage\n",
       "1  cheap     2   \n",
       "2  expensive 3   \n",
       "3  cheap     2   \n",
       "4  expensive 3   \n",
       "5  cheap     3   \n",
       "6  cheap     2   \n",
       "7  expensive 5   \n",
       "8  cheap     0   \n",
       "9  cheap     2   \n",
       "10 cheap     1   "
      ]
     },
     "metadata": {},
     "output_type": "display_data"
    }
   ],
   "source": [
    "#13. Add column that standardizes the fare and name it sfare\n",
    "titanic_clean$sfare = (titanic_clean$Fare - mean(titanic_clean$Fare)) / (sd(titanic_clean$Fare))\n",
    "\n",
    "#17. Categorical variable named \"cfare\" that takes value \"cheap\" for passengers paying less the average fare and takes value \"expensive\" for passengers paying more than the average fare. \n",
    "titanic_clean$cfare[titanic_clean$Fare >= mean(titanic_clean$Fare)] = \"expensive\"\n",
    "titanic_clean$cfare[titanic_clean$Fare <= mean(titanic_clean$Fare)] = \"cheap\"\n",
    "\n",
    "#18. Add categorical variable named \"cage\" that takes value 0 for age 0-10, 1 for age 10-20, 2 for age 20-30, and so on\n",
    "titanic_clean$cage[titanic_clean$Age < 10] = 0\n",
    "titanic_clean$cage[titanic_clean$Age >= 10 & titanic_clean$Age < 20] = 1\n",
    "titanic_clean$cage[titanic_clean$Age >= 20 & titanic_clean$Age < 30] = 2\n",
    "titanic_clean$cage[titanic_clean$Age >= 30 & titanic_clean$Age < 40] = 3\n",
    "titanic_clean$cage[titanic_clean$Age >= 40 & titanic_clean$Age < 50] = 4\n",
    "titanic_clean$cage[titanic_clean$Age >= 50 & titanic_clean$Age < 60] = 5\n",
    "titanic_clean$cage[titanic_clean$Age >= 60 & titanic_clean$Age < 70] = 6\n",
    "titanic_clean$cage[titanic_clean$Age >= 70 & titanic_clean$Age < 80] = 7\n",
    "titanic_clean$cage[titanic_clean$Age >= 80 & titanic_clean$Age < 90] = 8\n",
    "titanic_clean[1:10,]\n"
   ]
  },
  {
   "cell_type": "markdown",
   "metadata": {},
   "source": [
    "### Graphs and Plots (questions 14-16, 19, & 20)"
   ]
  },
  {
   "cell_type": "code",
   "execution_count": 12,
   "metadata": {},
   "outputs": [
    {
     "data": {},
     "metadata": {},
     "output_type": "display_data"
    },
    {
     "data": {},
     "metadata": {},
     "output_type": "display_data"
    },
    {
     "data": {
      "image/png": "[encoded data removed]",
      "text/plain": [
       "plot without title"
      ]
     },
     "metadata": {},
     "output_type": "display_data",
     "source": "R display func"
    },
    {
     "data": {},
     "metadata": {},
     "output_type": "display_data"
    },
    {
     "data": {
      "image/png": "[encoded data removed]",
      "text/plain": [
       "plot without title"
      ]
     },
     "metadata": {},
     "output_type": "display_data",
     "source": "R display func"
    },
    {
     "data": {},
     "metadata": {},
     "output_type": "display_data"
    },
    {
     "data": {
      "image/png": "[encoded data removed]",
      "text/plain": [
       "plot without title"
      ]
     },
     "metadata": {},
     "output_type": "display_data",
     "source": "R display func"
    },
    {
     "name": "stderr",
     "output_type": "stream",
     "text": [
      "Warning message:\n",
      "\"position_stack requires non-overlapping x intervals\"Warning message:\n",
      "\"position_stack requires non-overlapping x intervals\""
     ]
    },
    {
     "data": {},
     "metadata": {},
     "output_type": "display_data"
    },
    {
     "data": {
      "image/png": "[encoded data removed]",
      "text/plain": [
       "plot without title"
      ]
     },
     "metadata": {},
     "output_type": "display_data",
     "source": "R display func"
    },
    {
     "data": {
      "image/png": "[encoded data removed]",
      "text/plain": [
       "plot without title"
      ]
     },
     "metadata": {},
     "output_type": "display_data",
     "source": "R display func"
    }
   ],
   "source": [
    "library(ggplot2)\n",
    "\n",
    "#14. Bar chart of Sex and Survived for passengers younger than the average age\n",
    "ggplot(titanic_clean[titanic_clean$Age < mean(titanic_clean$Age),]) +\n",
    "  geom_bar(mapping = aes(x = Sex, fill = Survived), position = \"dodge\") +\n",
    "  scale_fill_discrete(breaks=c(\"0\", \"1\"),\n",
    "                      labels=c(\"Died\", \"Survived\")) +\n",
    "  ggtitle(\"Sex and Survival of Passengers Younger than Average Age\")\n",
    "\n",
    "#15. Density of age of passengers who survived and pay more than the average fare\n",
    "ggplot(titanic_clean[(titanic_clean$Survived == \"1\") & (titanic_clean$Fare > mean(titanic_clean$Fare)),]) +\n",
    "  geom_density(mapping = aes(x=Age), color=\"darkblue\", fill=\"lightblue\") +\n",
    "  ggtitle(\"Age Distribution of Passengers who Survived and Paid more than the Average Fare\")\n",
    "\n",
    "#16. Age of passengers embarked in Southampton and Queenstown\n",
    "ggplot(titanic_clean[(titanic_clean$Embarked == \"S\") | (titanic_clean$Embarked == \"Q\"),]) +\n",
    "  geom_density(mapping = aes(x=Age, fill=Embarked), alpha=0.75) +\n",
    "  ggtitle(\"Age of Passengers Embarked in Southampton and Queenstown\")\n",
    "\n",
    "#19. Bar chart of cage and Survived for passengers paying more than the average\n",
    "ggplot(titanic_clean[titanic_clean$Fare < mean(titanic_clean$Fare),]) +\n",
    "  geom_bar(mapping = aes(x=cage, fill=Survived), position =\"dodge\") +\n",
    "  scale_fill_discrete(breaks=c(\"0\", \"1\"),\n",
    "                    labels=c(\"Died\", \"Survived\")) +\n",
    "  ggtitle(\"Age Class and Survival for Passengers Paying more than the Average\")\n",
    "\n",
    "#20. Split bar chart in 19 by Pclass\n",
    "ggplot(titanic_clean[titanic_clean$Fare < mean(titanic_clean$Fare),]) +\n",
    "  geom_bar(mapping = aes(x=Age, fill=Survived)) +\n",
    "  facet_wrap(~ Pclass) +\n",
    "  scale_fill_discrete(breaks=c(\"0\", \"1\"),\n",
    "                    labels=c(\"Died\", \"Survived\")) +\n",
    "  ggtitle(\"Age and Survival for Passengers Paying above the Average Separated by Pclass\")"
   ]
  },
  {
   "cell_type": "code",
   "execution_count": null,
   "metadata": {},
   "outputs": [],
   "source": []
  }
 ],
 "metadata": {
  "kernelspec": {
   "display_name": "R",
   "language": "R",
   "name": "ir"
  },
  "language_info": {
   "codemirror_mode": "r",
   "file_extension": ".r",
   "mimetype": "text/x-r-source",
   "name": "R",
   "pygments_lexer": "r",
   "version": "3.5.1"
  }
 },
 "nbformat": 4,
 "nbformat_minor": 2
}
