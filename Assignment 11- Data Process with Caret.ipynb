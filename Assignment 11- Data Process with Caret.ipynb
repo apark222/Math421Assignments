{
 "cells": [
  {
   "cell_type": "markdown",
   "metadata": {},
   "source": [
    "# Assignment 11- Data Processing with Caret"
   ]
  },
  {
   "cell_type": "markdown",
   "metadata": {},
   "source": [
    "This code builds decision trees and random forests on the \"adult\" data set with the \"caret\" package. Pre-processing techniques provided in the \"caret\" package are used. Several methods of pre-processing techniques are used to create a variety of models which are then compared."
   ]
  },
  {
   "cell_type": "markdown",
   "metadata": {},
   "source": [
    "### 1. Replace all the missing values with NA"
   ]
  },
  {
   "cell_type": "code",
   "execution_count": 1,
   "metadata": {},
   "outputs": [
    {
     "data": {
      "text/html": [
       "'C:/Users/student/Documents/Data Analysis Practice Data Sets'"
      ],
      "text/latex": [
       "'C:/Users/student/Documents/Data Analysis Practice Data Sets'"
      ],
      "text/markdown": [
       "'C:/Users/student/Documents/Data Analysis Practice Data Sets'"
      ],
      "text/plain": [
       "[1] \"C:/Users/student/Documents/Data Analysis Practice Data Sets\""
      ]
     },
     "metadata": {},
     "output_type": "display_data"
    }
   ],
   "source": [
    "setwd(\"~/Data Analysis Practice Data Sets\")\n",
    "getwd()\n",
    "adult <- read.csv(\"adult_data.csv\", header = FALSE, na.strings = \" ?\")\n",
    "names(adult) <- c(\"age\", \"workclass\", \"fnlwgt\", \"education\", \"education_num\", \n",
    "                  \"marital_status\", \"occupation\", \"relationship\", \"race\", \"sex\",\n",
    "                  \"capital_gain\", \"capital_loss\", \"hours_per_week\", \"native_country\", \"class\") "
   ]
  },
  {
   "cell_type": "markdown",
   "metadata": {},
   "source": [
    "### 2. Replace the categorical missing values by the mode of the corresponding variables"
   ]
  },
  {
   "cell_type": "code",
   "execution_count": 2,
   "metadata": {},
   "outputs": [],
   "source": [
    "most_frequent <- function(x){\n",
    "   unique_x <- unique(x)\n",
    "   unique_x[which.max(tabulate(match(x, unique_x)))]\n",
    "}\n",
    "\n",
    "for (i in which(sapply(adult, is.factor))){\n",
    "    adult[is.na(adult[,i]), i] <- most_frequent(adult[,i])\n",
    "}"
   ]
  },
  {
   "cell_type": "markdown",
   "metadata": {},
   "source": [
    "### 3. Replace the numeric missing values by the median using caret"
   ]
  },
  {
   "cell_type": "code",
   "execution_count": 3,
   "metadata": {},
   "outputs": [
    {
     "name": "stderr",
     "output_type": "stream",
     "text": [
      "Loading required package: lattice\n",
      "Loading required package: ggplot2\n"
     ]
    }
   ],
   "source": [
    "library(caret)\n",
    "preProcess_adult <- preProcess(adult, method=\"medianImpute\")\n",
    "adult_clean <- predict(preProcess_adult, newdata = adult)\n",
    "\n",
    "adult_no_impute <- adult\n",
    "adult_clean13 <- adult_clean"
   ]
  },
  {
   "cell_type": "markdown",
   "metadata": {},
   "source": [
    "### 4. The variable \"native country\" has 16 categories. Group the categories of this variable into 5 categories.  Do the same for all categorical variables with more than 10 categories. "
   ]
  },
  {
   "cell_type": "code",
   "execution_count": 6,
   "metadata": {},
   "outputs": [
    {
     "name": "stdout",
     "output_type": "stream",
     "text": [
      "'data.frame':\t32561 obs. of  15 variables:\n",
      " $ age             : int  39 50 38 53 28 37 49 52 31 42 ...\n",
      " $ workclass       : Factor w/ 8 levels \" Federal-gov\",..: 7 6 4 4 4 4 4 6 4 4 ...\n",
      " $ fnlwgt          : int  77516 83311 215646 234721 338409 284582 160187 209642 45781 159449 ...\n",
      " $ education_num   : int  13 13 9 7 13 14 5 9 14 13 ...\n",
      " $ marital_status  : Factor w/ 7 levels \" Divorced\",\" Married-AF-spouse\",..: 5 3 1 3 3 3 4 3 5 3 ...\n",
      " $ relationship    : Factor w/ 6 levels \" Husband\",\" Not-in-family\",..: 2 1 2 1 6 6 2 1 2 1 ...\n",
      " $ race            : Factor w/ 5 levels \" Amer-Indian-Eskimo\",..: 5 5 5 3 3 5 3 5 5 5 ...\n",
      " $ sex             : Factor w/ 2 levels \" Female\",\" Male\": 2 2 2 2 1 1 1 2 1 2 ...\n",
      " $ capital_gain    : int  2174 0 0 0 0 0 0 0 14084 5178 ...\n",
      " $ capital_loss    : int  0 0 0 0 0 0 0 0 0 0 ...\n",
      " $ hours_per_week  : int  40 13 40 40 40 40 16 45 50 40 ...\n",
      " $ class           : Factor w/ 2 levels \" <=50K\",\" >50K\": 1 1 1 1 1 1 1 2 2 2 ...\n",
      " $ education_new   : Factor w/ 5 levels \" Bachelors\",\" Dropout\",..: 1 1 3 2 1 4 2 3 4 1 ...\n",
      " $ occupation_new  : Factor w/ 4 levels \" Blue_collar\",..: 2 2 1 1 2 2 2 2 2 2 ...\n",
      " $ native_continent: Factor w/ 5 levels \"Africa\",\"Americas\",..: 2 2 2 2 2 2 2 2 2 2 ...\n"
     ]
    }
   ],
   "source": [
    "#str(adult_clean)\n",
    "\n",
    "#education\n",
    "#levels(adult_clean$education)\n",
    "simplify <- function(data)\n",
    "{\n",
    "data$education_new[data$education %in% c(\" 1st-4th\", \" 5th-6th\", \n",
    "                                                       \" 7th-8th\", \" 9th\", \" 10th\",\n",
    "                                                        \" 11th\", \" 12th\", \n",
    "                                                        \" Preschool\")] <- \" Dropout\"\n",
    "data$education_new[data$education %in% c(\" HS-grad\")] <- \" HS-grad\"\n",
    "data$education_new[data$education %in% c(\" Assoc-acdm\", \" Assoc-voc\", \n",
    "                                                      \" Some-college\")] <- \" Some-college\"\n",
    "data$education_new[data$education %in% c(\" Bachelors\")] <- \" Bachelors\"\n",
    "data$education_new[data$education %in% c(\" Doctorate\", \" Masters\", \n",
    "                                                        \" Prof-school\")] <- \" Post_grad_schooling\"\n",
    "data$education_new <- as.factor(data$education_new)\n",
    "\n",
    "#occupation\n",
    "#levels(data$occupation)\n",
    "data$occupation_new <- ifelse(data$occupation %in% c( \" Protective-serv\", \n",
    "                                                                    \" Armed-Forces\"),\n",
    "                                                                    \" Safety_or_Forces\", NA)\n",
    "data$occupation_new[data$occupation %in% c(\" Tech-support\",\" Machine-op-inspct\",\n",
    "                                             \" Craft-repair\")] <- \" Tech_engineer\"\n",
    "data$occupation_new[data$occupation %in% c(\" Sales\", \n",
    "                                            \" Exec-managerial\", \" Adm-clerical\", \n",
    "                                            \" Prof-specialty\", \" Other-service\")] <- \" Office_job\"\n",
    "data$occupation_new[data$occupation %in% c(\" Farming-fishing\", \" Handlers-cleaners\",\n",
    "                                            \" Priv-house-serv\",\n",
    "                                            \" Transport-moving\")] <- \" Blue_collar\"\n",
    "data$occupation_new <- as.factor(data$occupation_new)\n",
    "\n",
    "#native country\n",
    "library(countrycode)\n",
    "data$native_continent <- factor(countrycode(sourcevar = data[,\"native_country\"],\n",
    "                                 origin = \"country.name\",\n",
    "                                 destination = \"continent\"))\n",
    "\n",
    "data$native_country = NULL\n",
    "data$education = NULL\n",
    "data$occupation = NULL\n",
    "return(data)\n",
    "}\n",
    "\n",
    "# Create data sets for the rest of the assignment\n",
    "adult_clean <- simplify(adult_clean)\n",
    "adult_clean9 <- simplify(adult_no_impute)\n",
    "adult_clean10 <- simplify(adult_no_impute)\n",
    "adult_clean11 <- adult_clean\n",
    "\n",
    "str(adult_clean)\n"
   ]
  },
  {
   "cell_type": "markdown",
   "metadata": {},
   "source": [
    "### 5. Encoding categorical variable using one hot encoding (dummy encoding) "
   ]
  },
  {
   "cell_type": "code",
   "execution_count": 7,
   "metadata": {},
   "outputs": [
    {
     "data": {
      "text/html": [
       "<table>\n",
       "<thead><tr><th scope=col>age</th><th scope=col>workclass..Federal.gov</th><th scope=col>workclass..Local.gov</th><th scope=col>workclass..Never.worked</th><th scope=col>workclass..Private</th><th scope=col>workclass..Self.emp.inc</th><th scope=col>workclass..Self.emp.not.inc</th><th scope=col>workclass..State.gov</th><th scope=col>workclass..Without.pay</th><th scope=col>fnlwgt</th><th scope=col>...</th><th scope=col>education_new..Some.college</th><th scope=col>occupation_new..Blue_collar</th><th scope=col>occupation_new..Office_job</th><th scope=col>occupation_new..Safety_or_Forces</th><th scope=col>occupation_new..Tech_engineer</th><th scope=col>native_continent.Africa</th><th scope=col>native_continent.Americas</th><th scope=col>native_continent.Asia</th><th scope=col>native_continent.Europe</th><th scope=col>native_continent.Oceania</th></tr></thead>\n",
       "<tbody>\n",
       "\t<tr><td>39    </td><td>0     </td><td>0     </td><td>0     </td><td>0     </td><td>0     </td><td>0     </td><td>1     </td><td>0     </td><td> 77516</td><td>...   </td><td>0     </td><td>0     </td><td>1     </td><td>0     </td><td>0     </td><td>0     </td><td>1     </td><td>0     </td><td>0     </td><td>0     </td></tr>\n",
       "\t<tr><td>50    </td><td>0     </td><td>0     </td><td>0     </td><td>0     </td><td>0     </td><td>1     </td><td>0     </td><td>0     </td><td> 83311</td><td>...   </td><td>0     </td><td>0     </td><td>1     </td><td>0     </td><td>0     </td><td>0     </td><td>1     </td><td>0     </td><td>0     </td><td>0     </td></tr>\n",
       "\t<tr><td>38    </td><td>0     </td><td>0     </td><td>0     </td><td>1     </td><td>0     </td><td>0     </td><td>0     </td><td>0     </td><td>215646</td><td>...   </td><td>0     </td><td>1     </td><td>0     </td><td>0     </td><td>0     </td><td>0     </td><td>1     </td><td>0     </td><td>0     </td><td>0     </td></tr>\n",
       "</tbody>\n",
       "</table>\n"
      ],
      "text/latex": [
       "\\begin{tabular}{r|lllllllllllllllllllllllllllllllllllllllllllllllll}\n",
       " age & workclass..Federal.gov & workclass..Local.gov & workclass..Never.worked & workclass..Private & workclass..Self.emp.inc & workclass..Self.emp.not.inc & workclass..State.gov & workclass..Without.pay & fnlwgt & ... & education\\_new..Some.college & occupation\\_new..Blue\\_collar & occupation\\_new..Office\\_job & occupation\\_new..Safety\\_or\\_Forces & occupation\\_new..Tech\\_engineer & native\\_continent.Africa & native\\_continent.Americas & native\\_continent.Asia & native\\_continent.Europe & native\\_continent.Oceania\\\\\n",
       "\\hline\n",
       "\t 39     & 0      & 0      & 0      & 0      & 0      & 0      & 1      & 0      &  77516 & ...    & 0      & 0      & 1      & 0      & 0      & 0      & 1      & 0      & 0      & 0     \\\\\n",
       "\t 50     & 0      & 0      & 0      & 0      & 0      & 1      & 0      & 0      &  83311 & ...    & 0      & 0      & 1      & 0      & 0      & 0      & 1      & 0      & 0      & 0     \\\\\n",
       "\t 38     & 0      & 0      & 0      & 1      & 0      & 0      & 0      & 0      & 215646 & ...    & 0      & 1      & 0      & 0      & 0      & 0      & 1      & 0      & 0      & 0     \\\\\n",
       "\\end{tabular}\n"
      ],
      "text/markdown": [
       "\n",
       "age | workclass..Federal.gov | workclass..Local.gov | workclass..Never.worked | workclass..Private | workclass..Self.emp.inc | workclass..Self.emp.not.inc | workclass..State.gov | workclass..Without.pay | fnlwgt | ... | education_new..Some.college | occupation_new..Blue_collar | occupation_new..Office_job | occupation_new..Safety_or_Forces | occupation_new..Tech_engineer | native_continent.Africa | native_continent.Americas | native_continent.Asia | native_continent.Europe | native_continent.Oceania | \n",
       "|---|---|---|\n",
       "| 39     | 0      | 0      | 0      | 0      | 0      | 0      | 1      | 0      |  77516 | ...    | 0      | 0      | 1      | 0      | 0      | 0      | 1      | 0      | 0      | 0      | \n",
       "| 50     | 0      | 0      | 0      | 0      | 0      | 1      | 0      | 0      |  83311 | ...    | 0      | 0      | 1      | 0      | 0      | 0      | 1      | 0      | 0      | 0      | \n",
       "| 38     | 0      | 0      | 0      | 1      | 0      | 0      | 0      | 0      | 215646 | ...    | 0      | 1      | 0      | 0      | 0      | 0      | 1      | 0      | 0      | 0      | \n",
       "\n",
       "\n"
      ],
      "text/plain": [
       "  age workclass..Federal.gov workclass..Local.gov workclass..Never.worked\n",
       "1 39  0                      0                    0                      \n",
       "2 50  0                      0                    0                      \n",
       "3 38  0                      0                    0                      \n",
       "  workclass..Private workclass..Self.emp.inc workclass..Self.emp.not.inc\n",
       "1 0                  0                       0                          \n",
       "2 0                  0                       1                          \n",
       "3 1                  0                       0                          \n",
       "  workclass..State.gov workclass..Without.pay fnlwgt ...\n",
       "1 1                    0                       77516 ...\n",
       "2 0                    0                       83311 ...\n",
       "3 0                    0                      215646 ...\n",
       "  education_new..Some.college occupation_new..Blue_collar\n",
       "1 0                           0                          \n",
       "2 0                           0                          \n",
       "3 0                           1                          \n",
       "  occupation_new..Office_job occupation_new..Safety_or_Forces\n",
       "1 1                          0                               \n",
       "2 1                          0                               \n",
       "3 0                          0                               \n",
       "  occupation_new..Tech_engineer native_continent.Africa\n",
       "1 0                             0                      \n",
       "2 0                             0                      \n",
       "3 0                             0                      \n",
       "  native_continent.Americas native_continent.Asia native_continent.Europe\n",
       "1 1                         0                     0                      \n",
       "2 1                         0                     0                      \n",
       "3 1                         0                     0                      \n",
       "  native_continent.Oceania\n",
       "1 0                       \n",
       "2 0                       \n",
       "3 0                       "
      ]
     },
     "metadata": {},
     "output_type": "display_data"
    }
   ],
   "source": [
    "library(caret)\n",
    "adult_clean$class <- as.numeric(adult_clean$class)\n",
    "dummy <- dummyVars( ~ ., data = adult_clean)\n",
    "adult_hot <- data.frame(predict(dummy, newdata = adult_clean))\n",
    "\n",
    "\n",
    "adult_hot$class[adult_hot$class == 1] <- \" <=50K\"\n",
    "adult_hot$class[adult_hot$class == 2] <- \" >50K\"\n",
    "\n",
    "head(adult_hot, 3)"
   ]
  },
  {
   "cell_type": "markdown",
   "metadata": {},
   "source": [
    "### 6. Scale and center the data"
   ]
  },
  {
   "cell_type": "code",
   "execution_count": 8,
   "metadata": {},
   "outputs": [
    {
     "data": {
      "text/html": [
       "<table>\n",
       "<thead><tr><th scope=col>age</th><th scope=col>workclass..Federal.gov</th><th scope=col>workclass..Local.gov</th><th scope=col>workclass..Never.worked</th><th scope=col>workclass..Private</th><th scope=col>workclass..Self.emp.inc</th><th scope=col>workclass..Self.emp.not.inc</th><th scope=col>workclass..State.gov</th><th scope=col>workclass..Without.pay</th><th scope=col>fnlwgt</th><th scope=col>...</th><th scope=col>education_new..Some.college</th><th scope=col>occupation_new..Blue_collar</th><th scope=col>occupation_new..Office_job</th><th scope=col>occupation_new..Safety_or_Forces</th><th scope=col>occupation_new..Tech_engineer</th><th scope=col>native_continent.Africa</th><th scope=col>native_continent.Americas</th><th scope=col>native_continent.Asia</th><th scope=col>native_continent.Europe</th><th scope=col>native_continent.Oceania</th></tr></thead>\n",
       "<tbody>\n",
       "\t<tr><td> 0.03067009</td><td>-0.1742924 </td><td>-0.2620933 </td><td>-0.01466359</td><td>-1.7479503 </td><td>-0.1883864 </td><td>-0.2909312 </td><td> 4.9076243 </td><td>-0.02073967</td><td>-1.0635944 </td><td>...        </td><td>-0.6532892 </td><td>-0.3800716 </td><td> 0.7537436 </td><td>-0.1436119 </td><td>-0.5246838 </td><td>-0.04962764</td><td>0.2027753  </td><td>-0.1450532 </td><td>-0.1275164 </td><td>-0.02073967</td></tr>\n",
       "\t<tr><td> 0.83709613</td><td>-0.1742924 </td><td>-0.2620933 </td><td>-0.01466359</td><td>-1.7479503 </td><td>-0.1883864 </td><td> 3.4371330 </td><td>-0.2037583 </td><td>-0.02073967</td><td>-1.0086915 </td><td>...        </td><td>-0.6532892 </td><td>-0.3800716 </td><td> 0.7537436 </td><td>-0.1436119 </td><td>-0.5246838 </td><td>-0.04962764</td><td>0.2027753  </td><td>-0.1450532 </td><td>-0.1275164 </td><td>-0.02073967</td></tr>\n",
       "\t<tr><td>-0.04264137</td><td>-0.1742924 </td><td>-0.2620933 </td><td>-0.01466359</td><td> 0.5720811 </td><td>-0.1883864 </td><td>-0.2909312 </td><td>-0.2037583 </td><td>-0.02073967</td><td> 0.2450747 </td><td>...        </td><td>-0.6532892 </td><td> 2.6310021 </td><td>-1.3266704 </td><td>-0.1436119 </td><td>-0.5246838 </td><td>-0.04962764</td><td>0.2027753  </td><td>-0.1450532 </td><td>-0.1275164 </td><td>-0.02073967</td></tr>\n",
       "</tbody>\n",
       "</table>\n"
      ],
      "text/latex": [
       "\\begin{tabular}{r|lllllllllllllllllllllllllllllllllllllllllllllllll}\n",
       " age & workclass..Federal.gov & workclass..Local.gov & workclass..Never.worked & workclass..Private & workclass..Self.emp.inc & workclass..Self.emp.not.inc & workclass..State.gov & workclass..Without.pay & fnlwgt & ... & education\\_new..Some.college & occupation\\_new..Blue\\_collar & occupation\\_new..Office\\_job & occupation\\_new..Safety\\_or\\_Forces & occupation\\_new..Tech\\_engineer & native\\_continent.Africa & native\\_continent.Americas & native\\_continent.Asia & native\\_continent.Europe & native\\_continent.Oceania\\\\\n",
       "\\hline\n",
       "\t  0.03067009 & -0.1742924  & -0.2620933  & -0.01466359 & -1.7479503  & -0.1883864  & -0.2909312  &  4.9076243  & -0.02073967 & -1.0635944  & ...         & -0.6532892  & -0.3800716  &  0.7537436  & -0.1436119  & -0.5246838  & -0.04962764 & 0.2027753   & -0.1450532  & -0.1275164  & -0.02073967\\\\\n",
       "\t  0.83709613 & -0.1742924  & -0.2620933  & -0.01466359 & -1.7479503  & -0.1883864  &  3.4371330  & -0.2037583  & -0.02073967 & -1.0086915  & ...         & -0.6532892  & -0.3800716  &  0.7537436  & -0.1436119  & -0.5246838  & -0.04962764 & 0.2027753   & -0.1450532  & -0.1275164  & -0.02073967\\\\\n",
       "\t -0.04264137 & -0.1742924  & -0.2620933  & -0.01466359 &  0.5720811  & -0.1883864  & -0.2909312  & -0.2037583  & -0.02073967 &  0.2450747  & ...         & -0.6532892  &  2.6310021  & -1.3266704  & -0.1436119  & -0.5246838  & -0.04962764 & 0.2027753   & -0.1450532  & -0.1275164  & -0.02073967\\\\\n",
       "\\end{tabular}\n"
      ],
      "text/markdown": [
       "\n",
       "age | workclass..Federal.gov | workclass..Local.gov | workclass..Never.worked | workclass..Private | workclass..Self.emp.inc | workclass..Self.emp.not.inc | workclass..State.gov | workclass..Without.pay | fnlwgt | ... | education_new..Some.college | occupation_new..Blue_collar | occupation_new..Office_job | occupation_new..Safety_or_Forces | occupation_new..Tech_engineer | native_continent.Africa | native_continent.Americas | native_continent.Asia | native_continent.Europe | native_continent.Oceania | \n",
       "|---|---|---|\n",
       "|  0.03067009 | -0.1742924  | -0.2620933  | -0.01466359 | -1.7479503  | -0.1883864  | -0.2909312  |  4.9076243  | -0.02073967 | -1.0635944  | ...         | -0.6532892  | -0.3800716  |  0.7537436  | -0.1436119  | -0.5246838  | -0.04962764 | 0.2027753   | -0.1450532  | -0.1275164  | -0.02073967 | \n",
       "|  0.83709613 | -0.1742924  | -0.2620933  | -0.01466359 | -1.7479503  | -0.1883864  |  3.4371330  | -0.2037583  | -0.02073967 | -1.0086915  | ...         | -0.6532892  | -0.3800716  |  0.7537436  | -0.1436119  | -0.5246838  | -0.04962764 | 0.2027753   | -0.1450532  | -0.1275164  | -0.02073967 | \n",
       "| -0.04264137 | -0.1742924  | -0.2620933  | -0.01466359 |  0.5720811  | -0.1883864  | -0.2909312  | -0.2037583  | -0.02073967 |  0.2450747  | ...         | -0.6532892  |  2.6310021  | -1.3266704  | -0.1436119  | -0.5246838  | -0.04962764 | 0.2027753   | -0.1450532  | -0.1275164  | -0.02073967 | \n",
       "\n",
       "\n"
      ],
      "text/plain": [
       "  age         workclass..Federal.gov workclass..Local.gov\n",
       "1  0.03067009 -0.1742924             -0.2620933          \n",
       "2  0.83709613 -0.1742924             -0.2620933          \n",
       "3 -0.04264137 -0.1742924             -0.2620933          \n",
       "  workclass..Never.worked workclass..Private workclass..Self.emp.inc\n",
       "1 -0.01466359             -1.7479503         -0.1883864             \n",
       "2 -0.01466359             -1.7479503         -0.1883864             \n",
       "3 -0.01466359              0.5720811         -0.1883864             \n",
       "  workclass..Self.emp.not.inc workclass..State.gov workclass..Without.pay\n",
       "1 -0.2909312                   4.9076243           -0.02073967           \n",
       "2  3.4371330                  -0.2037583           -0.02073967           \n",
       "3 -0.2909312                  -0.2037583           -0.02073967           \n",
       "  fnlwgt     ... education_new..Some.college occupation_new..Blue_collar\n",
       "1 -1.0635944 ... -0.6532892                  -0.3800716                 \n",
       "2 -1.0086915 ... -0.6532892                  -0.3800716                 \n",
       "3  0.2450747 ... -0.6532892                   2.6310021                 \n",
       "  occupation_new..Office_job occupation_new..Safety_or_Forces\n",
       "1  0.7537436                 -0.1436119                      \n",
       "2  0.7537436                 -0.1436119                      \n",
       "3 -1.3266704                 -0.1436119                      \n",
       "  occupation_new..Tech_engineer native_continent.Africa\n",
       "1 -0.5246838                    -0.04962764            \n",
       "2 -0.5246838                    -0.04962764            \n",
       "3 -0.5246838                    -0.04962764            \n",
       "  native_continent.Americas native_continent.Asia native_continent.Europe\n",
       "1 0.2027753                 -0.1450532            -0.1275164             \n",
       "2 0.2027753                 -0.1450532            -0.1275164             \n",
       "3 0.2027753                 -0.1450532            -0.1275164             \n",
       "  native_continent.Oceania\n",
       "1 -0.02073967             \n",
       "2 -0.02073967             \n",
       "3 -0.02073967             "
      ]
     },
     "metadata": {},
     "output_type": "display_data"
    }
   ],
   "source": [
    "preProcess_Scaled <- preProcess(adult_hot, method=c(\"center\", \"scale\"))\n",
    "\n",
    "adult_scaled <- predict(preProcess_Scaled, newdata = adult_hot)\n",
    "\n",
    "head(adult_scaled, 3)"
   ]
  },
  {
   "cell_type": "markdown",
   "metadata": {},
   "source": [
    "### 7. Split the data into training (70%) and testing (30%) with the seeding set to be 2018 [including the code: set.seed(2018)]. Build a decision tree and report the accuracy and balanced accuracy"
   ]
  },
  {
   "cell_type": "code",
   "execution_count": 9,
   "metadata": {},
   "outputs": [
    {
     "name": "stderr",
     "output_type": "stream",
     "text": [
      "Rattle: A free graphical interface for data science with R.\n",
      "Version 5.2.0 Copyright (c) 2006-2018 Togaware Pty Ltd.\n",
      "Type 'rattle()' to shake, rattle, and roll your data.\n"
     ]
    },
    {
     "data": {
      "text/plain": [
       "Confusion Matrix and Statistics\n",
       "\n",
       "          Reference\n",
       "Prediction  <=50K  >50K\n",
       "     <=50K   7028  1151\n",
       "     >50K     388  1201\n",
       "                                          \n",
       "               Accuracy : 0.8424          \n",
       "                 95% CI : (0.8351, 0.8496)\n",
       "    No Information Rate : 0.7592          \n",
       "    P-Value [Acc > NIR] : < 2.2e-16       \n",
       "                                          \n",
       "                  Kappa : 0.5154          \n",
       " Mcnemar's Test P-Value : < 2.2e-16       \n",
       "                                          \n",
       "            Sensitivity : 0.9477          \n",
       "            Specificity : 0.5106          \n",
       "         Pos Pred Value : 0.8593          \n",
       "         Neg Pred Value : 0.7558          \n",
       "             Prevalence : 0.7592          \n",
       "         Detection Rate : 0.7195          \n",
       "   Detection Prevalence : 0.8373          \n",
       "      Balanced Accuracy : 0.7292          \n",
       "                                          \n",
       "       'Positive' Class :  <=50K          \n",
       "                                          "
      ]
     },
     "metadata": {},
     "output_type": "display_data"
    },
    {
     "data": {
      "image/png": "[encoded data removed]",
      "text/plain": [
       "Plot with title \"\""
      ]
     },
     "metadata": {},
     "output_type": "display_data",
     "source": "R display func"
    }
   ],
   "source": [
    "set.seed(2018)\n",
    "split <- createDataPartition(adult_scaled$class, p = .7, list = FALSE, times = 1)\n",
    "adult_train <- adult[split,]\n",
    "adult_test <- adult[-split,]\n",
    "\n",
    "library(rpart)\n",
    "decision_tree <- rpart(class~., data = adult_train, method = \"class\")\n",
    "\n",
    "library(rattle)\n",
    "fancyRpartPlot(decision_tree)\n",
    "\n",
    "predicting_test <- predict(decision_tree, adult_test, type = \"class\")\n",
    "\n",
    "conf_matrix <- confusionMatrix(data = predicting_test, reference = adult_test$class)\n",
    "conf_matrix"
   ]
  },
  {
   "cell_type": "markdown",
   "metadata": {},
   "source": [
    "### 8. Build a random forest using the ranger package.  Report the accuracy and balanced accuracy"
   ]
  },
  {
   "cell_type": "code",
   "execution_count": 10,
   "metadata": {},
   "outputs": [
    {
     "name": "stderr",
     "output_type": "stream",
     "text": [
      "\n",
      "Attaching package: 'ranger'\n",
      "\n",
      "The following object is masked from 'package:rattle':\n",
      "\n",
      "    importance\n",
      "\n"
     ]
    },
    {
     "data": {
      "text/plain": [
       "Confusion Matrix and Statistics\n",
       "\n",
       "          Reference\n",
       "Prediction  <=50K  >50K\n",
       "     <=50K   6952   886\n",
       "     >50K     464  1466\n",
       "                                          \n",
       "               Accuracy : 0.8618          \n",
       "                 95% CI : (0.8548, 0.8686)\n",
       "    No Information Rate : 0.7592          \n",
       "    P-Value [Acc > NIR] : < 2.2e-16       \n",
       "                                          \n",
       "                  Kappa : 0.5973          \n",
       " Mcnemar's Test P-Value : < 2.2e-16       \n",
       "                                          \n",
       "            Sensitivity : 0.9374          \n",
       "            Specificity : 0.6233          \n",
       "         Pos Pred Value : 0.8870          \n",
       "         Neg Pred Value : 0.7596          \n",
       "             Prevalence : 0.7592          \n",
       "         Detection Rate : 0.7117          \n",
       "   Detection Prevalence : 0.8024          \n",
       "      Balanced Accuracy : 0.7804          \n",
       "                                          \n",
       "       'Positive' Class :  <=50K          \n",
       "                                          "
      ]
     },
     "metadata": {},
     "output_type": "display_data"
    }
   ],
   "source": [
    "library(ranger)\n",
    "\n",
    "random_forest_adult <- ranger(class ~ ., data = adult_train)\n",
    "rf_predict <- predict(random_forest_adult, data = adult_test)$predictions\n",
    "rf_cm <- confusionMatrix(data = rf_predict, adult_test$class)\n",
    "rf_cm"
   ]
  },
  {
   "cell_type": "markdown",
   "metadata": {},
   "source": [
    "### 9. Redo 3 with missing values being replaced by the mean.  Rebuild the model and report the models' performances (the accuracy and balanced accuracy). "
   ]
  },
  {
   "cell_type": "code",
   "execution_count": 11,
   "metadata": {},
   "outputs": [
    {
     "data": {
      "text/html": [
       "<table>\n",
       "<thead><tr><th scope=col>age</th><th scope=col>workclass</th><th scope=col>fnlwgt</th><th scope=col>education_num</th><th scope=col>marital_status</th><th scope=col>relationship</th><th scope=col>race</th><th scope=col>sex</th><th scope=col>capital_gain</th><th scope=col>capital_loss</th><th scope=col>hours_per_week</th><th scope=col>class</th><th scope=col>education_new</th><th scope=col>occupation_new</th><th scope=col>native_continent</th></tr></thead>\n",
       "<tbody>\n",
       "\t<tr><td>39                                                         </td><td><span style=white-space:pre-wrap> State-gov       </span>  </td><td> 77516                                                     </td><td>13                                                         </td><td><span style=white-space:pre-wrap> Never-married     </span></td><td> Not-in-family                                             </td><td> White                                                     </td><td> Male                                                      </td><td>2174                                                       </td><td>0                                                          </td><td>40                                                         </td><td> &lt;=50K                                                  </td><td> Bachelors                                                 </td><td> Office_job                                                </td><td>Americas                                                   </td></tr>\n",
       "\t<tr><td>50                                                    </td><td> Self-emp-not-inc                                     </td><td> 83311                                                </td><td>13                                                    </td><td> Married-civ-spouse                                   </td><td><span style=white-space:pre-wrap> Husband      </span></td><td> White                                                </td><td> Male                                                 </td><td><span style=white-space:pre-wrap>   0</span>          </td><td>0                                                     </td><td>13                                                    </td><td> &lt;=50K                                             </td><td> Bachelors                                            </td><td> Office_job                                           </td><td>Americas                                              </td></tr>\n",
       "\t<tr><td>38                                                         </td><td><span style=white-space:pre-wrap> Private         </span>  </td><td>215646                                                     </td><td> 9                                                         </td><td><span style=white-space:pre-wrap> Divorced          </span></td><td> Not-in-family                                             </td><td> White                                                     </td><td> Male                                                      </td><td><span style=white-space:pre-wrap>   0</span>               </td><td>0                                                          </td><td>40                                                         </td><td> &lt;=50K                                                  </td><td><span style=white-space:pre-wrap> HS-grad  </span>         </td><td> Blue_collar                                               </td><td>Americas                                                   </td></tr>\n",
       "</tbody>\n",
       "</table>\n"
      ],
      "text/latex": [
       "\\begin{tabular}{r|lllllllllllllll}\n",
       " age & workclass & fnlwgt & education\\_num & marital\\_status & relationship & race & sex & capital\\_gain & capital\\_loss & hours\\_per\\_week & class & education\\_new & occupation\\_new & native\\_continent\\\\\n",
       "\\hline\n",
       "\t 39                  &  State-gov          &  77516              & 13                  &  Never-married      &  Not-in-family      &  White              &  Male               & 2174                & 0                   & 40                  &  <=50K              &  Bachelors          &  Office\\_job       & Americas           \\\\\n",
       "\t 50                  &  Self-emp-not-inc   &  83311              & 13                  &  Married-civ-spouse &  Husband            &  White              &  Male               &    0                & 0                   & 13                  &  <=50K              &  Bachelors          &  Office\\_job       & Americas           \\\\\n",
       "\t 38                  &  Private            & 215646              &  9                  &  Divorced           &  Not-in-family      &  White              &  Male               &    0                & 0                   & 40                  &  <=50K              &  HS-grad            &  Blue\\_collar      & Americas           \\\\\n",
       "\\end{tabular}\n"
      ],
      "text/markdown": [
       "\n",
       "age | workclass | fnlwgt | education_num | marital_status | relationship | race | sex | capital_gain | capital_loss | hours_per_week | class | education_new | occupation_new | native_continent | \n",
       "|---|---|---|\n",
       "| 39                  |  State-gov          |  77516              | 13                  |  Never-married      |  Not-in-family      |  White              |  Male               | 2174                | 0                   | 40                  |  <=50K              |  Bachelors          |  Office_job         | Americas            | \n",
       "| 50                  |  Self-emp-not-inc   |  83311              | 13                  |  Married-civ-spouse |  Husband            |  White              |  Male               |    0                | 0                   | 13                  |  <=50K              |  Bachelors          |  Office_job         | Americas            | \n",
       "| 38                  |  Private            | 215646              |  9                  |  Divorced           |  Not-in-family      |  White              |  Male               |    0                | 0                   | 40                  |  <=50K              |  HS-grad            |  Blue_collar        | Americas            | \n",
       "\n",
       "\n"
      ],
      "text/plain": [
       "  age workclass         fnlwgt education_num marital_status      relationship  \n",
       "1 39   State-gov         77516 13             Never-married       Not-in-family\n",
       "2 50   Self-emp-not-inc  83311 13             Married-civ-spouse  Husband      \n",
       "3 38   Private          215646  9             Divorced            Not-in-family\n",
       "  race   sex   capital_gain capital_loss hours_per_week class  education_new\n",
       "1  White  Male 2174         0            40              <=50K  Bachelors   \n",
       "2  White  Male    0         0            13              <=50K  Bachelors   \n",
       "3  White  Male    0         0            40              <=50K  HS-grad     \n",
       "  occupation_new native_continent\n",
       "1  Office_job    Americas        \n",
       "2  Office_job    Americas        \n",
       "3  Blue_collar   Americas        "
      ]
     },
     "metadata": {},
     "output_type": "display_data"
    },
    {
     "data": {
      "text/plain": [
       "Confusion Matrix and Statistics\n",
       "\n",
       "          Reference\n",
       "Prediction  <=50K  >50K\n",
       "     <=50K   7028  1151\n",
       "     >50K     388  1201\n",
       "                                          \n",
       "               Accuracy : 0.8424          \n",
       "                 95% CI : (0.8351, 0.8496)\n",
       "    No Information Rate : 0.7592          \n",
       "    P-Value [Acc > NIR] : < 2.2e-16       \n",
       "                                          \n",
       "                  Kappa : 0.5154          \n",
       " Mcnemar's Test P-Value : < 2.2e-16       \n",
       "                                          \n",
       "            Sensitivity : 0.9477          \n",
       "            Specificity : 0.5106          \n",
       "         Pos Pred Value : 0.8593          \n",
       "         Neg Pred Value : 0.7558          \n",
       "             Prevalence : 0.7592          \n",
       "         Detection Rate : 0.7195          \n",
       "   Detection Prevalence : 0.8373          \n",
       "      Balanced Accuracy : 0.7292          \n",
       "                                          \n",
       "       'Positive' Class :  <=50K          \n",
       "                                          "
      ]
     },
     "metadata": {},
     "output_type": "display_data"
    },
    {
     "data": {
      "image/png": "[encoded data removed]",
      "text/plain": [
       "Plot with title \"\""
      ]
     },
     "metadata": {},
     "output_type": "display_data",
     "source": "R display func"
    }
   ],
   "source": [
    "head(adult_clean9, 3)\n",
    "for (i in which(sapply(adult_clean9, is.numeric))){\n",
    "     adult_clean9[is.na(adult_clean9[,i]), i] <- mean(adult_clean9[,i], na.rm = TRUE)\n",
    "}\n",
    "\n",
    "#hot code the data\n",
    "adult_clean9$class <- as.numeric(adult_clean9$class)\n",
    "dummy <- dummyVars( ~ ., data = adult_clean9)\n",
    "adult_hot9 <- data.frame(predict(dummy, newdata = adult_clean9))\n",
    "\n",
    "adult_hot9$class[adult_hot9$class == 1] <- \" <=50K\"\n",
    "adult_hot9$class[adult_hot9$class == 2] <- \" >50K\"\n",
    "\n",
    "preProcess_Scaled9 <- preProcess(adult_hot9, method=c(\"center\", \"scale\"))\n",
    "adult_scaled9 <- predict(preProcess_Scaled9, newdata = adult_hot9)\n",
    "\n",
    "set.seed(2018)\n",
    "split9 <- createDataPartition(adult_scaled9$class, p = .7, list = FALSE, times = 1)\n",
    "adult_train9 <- adult[split9,]\n",
    "adult_test9 <- adult[-split9,]\n",
    "\n",
    "decision_tree9 <- rpart(class~., data = adult_train9, method = \"class\")\n",
    "\n",
    "fancyRpartPlot(decision_tree9)\n",
    "\n",
    "predicting_test9 <- predict(decision_tree9, adult_test9, type = \"class\")\n",
    "\n",
    "conf_matrix9 <- confusionMatrix(data = predicting_test9, reference = adult_test9$class)\n",
    "conf_matrix9"
   ]
  },
  {
   "cell_type": "markdown",
   "metadata": {},
   "source": [
    "### 10.\tRedo 3 with missing values being replaced by the \"knn\" imputation method.  Rebuild the model and report the models' performances (the accuracy and balanced accuracy)"
   ]
  },
  {
   "cell_type": "code",
   "execution_count": 12,
   "metadata": {},
   "outputs": [
    {
     "data": {
      "text/html": [
       "<table>\n",
       "<thead><tr><th scope=col>age</th><th scope=col>workclass</th><th scope=col>fnlwgt</th><th scope=col>education_num</th><th scope=col>marital_status</th><th scope=col>relationship</th><th scope=col>race</th><th scope=col>sex</th><th scope=col>capital_gain</th><th scope=col>capital_loss</th><th scope=col>hours_per_week</th><th scope=col>class</th><th scope=col>education_new</th><th scope=col>occupation_new</th><th scope=col>native_continent</th></tr></thead>\n",
       "<tbody>\n",
       "\t<tr><td>39                                                         </td><td><span style=white-space:pre-wrap> State-gov       </span>  </td><td> 77516                                                     </td><td>13                                                         </td><td><span style=white-space:pre-wrap> Never-married     </span></td><td> Not-in-family                                             </td><td> White                                                     </td><td> Male                                                      </td><td>2174                                                       </td><td>0                                                          </td><td>40                                                         </td><td> &lt;=50K                                                  </td><td> Bachelors                                                 </td><td> Office_job                                                </td><td>Americas                                                   </td></tr>\n",
       "\t<tr><td>50                                                    </td><td> Self-emp-not-inc                                     </td><td> 83311                                                </td><td>13                                                    </td><td> Married-civ-spouse                                   </td><td><span style=white-space:pre-wrap> Husband      </span></td><td> White                                                </td><td> Male                                                 </td><td><span style=white-space:pre-wrap>   0</span>          </td><td>0                                                     </td><td>13                                                    </td><td> &lt;=50K                                             </td><td> Bachelors                                            </td><td> Office_job                                           </td><td>Americas                                              </td></tr>\n",
       "\t<tr><td>38                                                         </td><td><span style=white-space:pre-wrap> Private         </span>  </td><td>215646                                                     </td><td> 9                                                         </td><td><span style=white-space:pre-wrap> Divorced          </span></td><td> Not-in-family                                             </td><td> White                                                     </td><td> Male                                                      </td><td><span style=white-space:pre-wrap>   0</span>               </td><td>0                                                          </td><td>40                                                         </td><td> &lt;=50K                                                  </td><td><span style=white-space:pre-wrap> HS-grad  </span>         </td><td> Blue_collar                                               </td><td>Americas                                                   </td></tr>\n",
       "</tbody>\n",
       "</table>\n"
      ],
      "text/latex": [
       "\\begin{tabular}{r|lllllllllllllll}\n",
       " age & workclass & fnlwgt & education\\_num & marital\\_status & relationship & race & sex & capital\\_gain & capital\\_loss & hours\\_per\\_week & class & education\\_new & occupation\\_new & native\\_continent\\\\\n",
       "\\hline\n",
       "\t 39                  &  State-gov          &  77516              & 13                  &  Never-married      &  Not-in-family      &  White              &  Male               & 2174                & 0                   & 40                  &  <=50K              &  Bachelors          &  Office\\_job       & Americas           \\\\\n",
       "\t 50                  &  Self-emp-not-inc   &  83311              & 13                  &  Married-civ-spouse &  Husband            &  White              &  Male               &    0                & 0                   & 13                  &  <=50K              &  Bachelors          &  Office\\_job       & Americas           \\\\\n",
       "\t 38                  &  Private            & 215646              &  9                  &  Divorced           &  Not-in-family      &  White              &  Male               &    0                & 0                   & 40                  &  <=50K              &  HS-grad            &  Blue\\_collar      & Americas           \\\\\n",
       "\\end{tabular}\n"
      ],
      "text/markdown": [
       "\n",
       "age | workclass | fnlwgt | education_num | marital_status | relationship | race | sex | capital_gain | capital_loss | hours_per_week | class | education_new | occupation_new | native_continent | \n",
       "|---|---|---|\n",
       "| 39                  |  State-gov          |  77516              | 13                  |  Never-married      |  Not-in-family      |  White              |  Male               | 2174                | 0                   | 40                  |  <=50K              |  Bachelors          |  Office_job         | Americas            | \n",
       "| 50                  |  Self-emp-not-inc   |  83311              | 13                  |  Married-civ-spouse |  Husband            |  White              |  Male               |    0                | 0                   | 13                  |  <=50K              |  Bachelors          |  Office_job         | Americas            | \n",
       "| 38                  |  Private            | 215646              |  9                  |  Divorced           |  Not-in-family      |  White              |  Male               |    0                | 0                   | 40                  |  <=50K              |  HS-grad            |  Blue_collar        | Americas            | \n",
       "\n",
       "\n"
      ],
      "text/plain": [
       "  age workclass         fnlwgt education_num marital_status      relationship  \n",
       "1 39   State-gov         77516 13             Never-married       Not-in-family\n",
       "2 50   Self-emp-not-inc  83311 13             Married-civ-spouse  Husband      \n",
       "3 38   Private          215646  9             Divorced            Not-in-family\n",
       "  race   sex   capital_gain capital_loss hours_per_week class  education_new\n",
       "1  White  Male 2174         0            40              <=50K  Bachelors   \n",
       "2  White  Male    0         0            13              <=50K  Bachelors   \n",
       "3  White  Male    0         0            40              <=50K  HS-grad     \n",
       "  occupation_new native_continent\n",
       "1  Office_job    Americas        \n",
       "2  Office_job    Americas        \n",
       "3  Blue_collar   Americas        "
      ]
     },
     "metadata": {},
     "output_type": "display_data"
    },
    {
     "data": {
      "text/plain": [
       "Confusion Matrix and Statistics\n",
       "\n",
       "          Reference\n",
       "Prediction  <=50K  >50K\n",
       "     <=50K   7028  1151\n",
       "     >50K     388  1201\n",
       "                                          \n",
       "               Accuracy : 0.8424          \n",
       "                 95% CI : (0.8351, 0.8496)\n",
       "    No Information Rate : 0.7592          \n",
       "    P-Value [Acc > NIR] : < 2.2e-16       \n",
       "                                          \n",
       "                  Kappa : 0.5154          \n",
       " Mcnemar's Test P-Value : < 2.2e-16       \n",
       "                                          \n",
       "            Sensitivity : 0.9477          \n",
       "            Specificity : 0.5106          \n",
       "         Pos Pred Value : 0.8593          \n",
       "         Neg Pred Value : 0.7558          \n",
       "             Prevalence : 0.7592          \n",
       "         Detection Rate : 0.7195          \n",
       "   Detection Prevalence : 0.8373          \n",
       "      Balanced Accuracy : 0.7292          \n",
       "                                          \n",
       "       'Positive' Class :  <=50K          \n",
       "                                          "
      ]
     },
     "metadata": {},
     "output_type": "display_data"
    },
    {
     "data": {
      "image/png": "[encoded data removed]",
      "text/plain": [
       "Plot with title \"\""
      ]
     },
     "metadata": {},
     "output_type": "display_data",
     "source": "R display func"
    }
   ],
   "source": [
    "head(adult_clean10, 3)\n",
    "preProcess_adult_clean10 <- preProcess(adult_clean10, method=\"knnImpute\")\n",
    "adult_knn <- predict(preProcess_adult_clean10, newdata = adult_clean10)\n",
    "\n",
    "#hot code the data\n",
    "adult_clean10$class <- as.numeric(adult_clean10$class)\n",
    "dummy <- dummyVars( ~ ., data = adult_clean10)\n",
    "adult_hot10 <- data.frame(predict(dummy, newdata = adult_clean10))\n",
    "\n",
    "adult_hot10$class[adult_hot10$class == 1] <- \" <=50K\"\n",
    "adult_hot10$class[adult_hot10$class == 2] <- \" >50K\"\n",
    "\n",
    "preProcess_Scaled10 <- preProcess(adult_hot10, method=c(\"center\", \"scale\"))\n",
    "adult_scaled10 <- predict(preProcess_Scaled10, newdata = adult_hot10)\n",
    "\n",
    "set.seed(2018)\n",
    "split10 <- createDataPartition(adult_scaled10$class, p = .7, list = FALSE, times = 1)\n",
    "adult_train10 <- adult[split10,]\n",
    "adult_test10 <- adult[-split10,]\n",
    "\n",
    "decision_tree10 <- rpart(class~., data = adult_train10, method = \"class\")\n",
    "\n",
    "fancyRpartPlot(decision_tree10)\n",
    "\n",
    "predicting_test10 <- predict(decision_tree10, adult_test10, type = \"class\")\n",
    "\n",
    "conf_matrix10 <- confusionMatrix(data = predicting_test10, reference = adult_test10$class)\n",
    "conf_matrix10"
   ]
  },
  {
   "cell_type": "markdown",
   "metadata": {},
   "source": [
    "### 11.\tRedo 6 with only scaling and centering the non-encoded variables. Rebuild the model and report the models' performances (the accuracy and balanced accuracy)"
   ]
  },
  {
   "cell_type": "code",
   "execution_count": 13,
   "metadata": {},
   "outputs": [
    {
     "data": {
      "text/plain": [
       "Confusion Matrix and Statistics\n",
       "\n",
       "          Reference\n",
       "Prediction  <=50K  >50K\n",
       "     <=50K   6997  1149\n",
       "     >50K     392  1230\n",
       "                                          \n",
       "               Accuracy : 0.8422          \n",
       "                 95% CI : (0.8349, 0.8494)\n",
       "    No Information Rate : 0.7564          \n",
       "    P-Value [Acc > NIR] : < 2.2e-16       \n",
       "                                          \n",
       "                  Kappa : 0.5201          \n",
       " Mcnemar's Test P-Value : < 2.2e-16       \n",
       "                                          \n",
       "            Sensitivity : 0.9469          \n",
       "            Specificity : 0.5170          \n",
       "         Pos Pred Value : 0.8589          \n",
       "         Neg Pred Value : 0.7583          \n",
       "             Prevalence : 0.7564          \n",
       "         Detection Rate : 0.7163          \n",
       "   Detection Prevalence : 0.8339          \n",
       "      Balanced Accuracy : 0.7320          \n",
       "                                          \n",
       "       'Positive' Class :  <=50K          \n",
       "                                          "
      ]
     },
     "metadata": {},
     "output_type": "display_data"
    },
    {
     "data": {
      "image/png": "[encoded data removed]",
      "text/plain": [
       "Plot with title \"\""
      ]
     },
     "metadata": {},
     "output_type": "display_data",
     "source": "R display func"
    }
   ],
   "source": [
    "preProcess_Scaled11 <- preProcess(adult_clean, method=c(\"center\", \"scale\"))\n",
    "adult_scaled11 <- predict(preProcess_Scaled11, newdata = adult_clean)\n",
    "#head(adult_scaled11, 3)\n",
    "\n",
    "adult_scaled11$class <- as.numeric(adult_scaled11$class)\n",
    "dummy11 <- dummyVars( ~ ., data = adult_clean)\n",
    "adult_hot11 <- data.frame(predict(dummy11, newdata = adult_clean))\n",
    "\n",
    "\n",
    "adult_hot11$class[adult_hot11$class == 1] <- \" <=50K\"\n",
    "adult_hot11$class[adult_hot11$class == 2] <- \" >50K\"\n",
    "\n",
    "split11 <- createDataPartition(adult_scaled11$class, p = .7, list = FALSE, times = 1)\n",
    "adult_train11 <- adult[split11,]\n",
    "adult_test11 <- adult[-split11,]\n",
    "\n",
    "decision_tree11 <- rpart(class~., data = adult_train11, method = \"class\")\n",
    "\n",
    "fancyRpartPlot(decision_tree11)\n",
    "\n",
    "predicting_test11 <- predict(decision_tree11, adult_test11, type = \"class\")\n",
    "\n",
    "conf_matrix11 <- confusionMatrix(data = predicting_test11, reference = adult_test11$class)\n",
    "conf_matrix11"
   ]
  },
  {
   "cell_type": "markdown",
   "metadata": {},
   "source": [
    "### 12. Redo 5 with a different encoding method. Rebuild the model and report the models' performances (the accuracy and balanced accuracy)."
   ]
  },
  {
   "cell_type": "code",
   "execution_count": 14,
   "metadata": {},
   "outputs": [
    {
     "data": {
      "text/plain": [
       "Confusion Matrix and Statistics\n",
       "\n",
       "          Reference\n",
       "Prediction  <=50K  >50K\n",
       "     <=50K   7060  1182\n",
       "     >50K     356  1170\n",
       "                                          \n",
       "               Accuracy : 0.8425          \n",
       "                 95% CI : (0.8352, 0.8497)\n",
       "    No Information Rate : 0.7592          \n",
       "    P-Value [Acc > NIR] : < 2.2e-16       \n",
       "                                          \n",
       "                  Kappa : 0.5107          \n",
       " Mcnemar's Test P-Value : < 2.2e-16       \n",
       "                                          \n",
       "            Sensitivity : 0.9520          \n",
       "            Specificity : 0.4974          \n",
       "         Pos Pred Value : 0.8566          \n",
       "         Neg Pred Value : 0.7667          \n",
       "             Prevalence : 0.7592          \n",
       "         Detection Rate : 0.7228          \n",
       "   Detection Prevalence : 0.8438          \n",
       "      Balanced Accuracy : 0.7247          \n",
       "                                          \n",
       "       'Positive' Class :  <=50K          \n",
       "                                          "
      ]
     },
     "metadata": {},
     "output_type": "display_data"
    },
    {
     "data": {
      "image/png": "[encoded data removed]",
      "text/plain": [
       "Plot with title \"\""
      ]
     },
     "metadata": {},
     "output_type": "display_data",
     "source": "R display func"
    }
   ],
   "source": [
    "adult_clean12 <- adult_clean\n",
    "\n",
    "for (i in 1:ncol(adult_clean12))\n",
    "{\n",
    "  if (is.factor(adult_clean12[,i])){\n",
    "    adult_clean12[,i] = as.numeric(adult_clean12[,i])\n",
    "  }\n",
    "}\n",
    "\n",
    "adult_clean12$class[adult_clean12$class == 1] <- \" <=50K\"\n",
    "adult_clean12$class[adult_clean12$class == 2] <- \" >50K\"\n",
    "\n",
    "split12 <- createDataPartition(adult_clean12$class, p = .7, list = FALSE, times = 1)\n",
    "adult_train12 <- adult[split12,]\n",
    "adult_test12 <- adult[-split12,]\n",
    "\n",
    "decision_tree12 <- rpart(class~., data = adult_train12, method = \"class\")\n",
    "\n",
    "fancyRpartPlot(decision_tree12)\n",
    "\n",
    "predicting_test12 <- predict(decision_tree12, adult_test12, type = \"class\")\n",
    "\n",
    "conf_matrix12 <- confusionMatrix(data = predicting_test12, reference = adult_test12$class)\n",
    "conf_matrix12"
   ]
  },
  {
   "cell_type": "markdown",
   "metadata": {},
   "source": [
    "### 13.\tSkip 4 to rebuild the models.  Do you find any improvement in the models' performances? "
   ]
  },
  {
   "cell_type": "code",
   "execution_count": 15,
   "metadata": {},
   "outputs": [
    {
     "data": {
      "text/html": [
       "<table>\n",
       "<thead><tr><th scope=col>age</th><th scope=col>workclass</th><th scope=col>fnlwgt</th><th scope=col>education</th><th scope=col>education_num</th><th scope=col>marital_status</th><th scope=col>occupation</th><th scope=col>relationship</th><th scope=col>race</th><th scope=col>sex</th><th scope=col>capital_gain</th><th scope=col>capital_loss</th><th scope=col>hours_per_week</th><th scope=col>native_country</th><th scope=col>class</th></tr></thead>\n",
       "<tbody>\n",
       "\t<tr><td>39                                                         </td><td><span style=white-space:pre-wrap> State-gov       </span>  </td><td> 77516                                                     </td><td> Bachelors                                                 </td><td>13                                                         </td><td><span style=white-space:pre-wrap> Never-married     </span></td><td><span style=white-space:pre-wrap> Adm-clerical     </span> </td><td> Not-in-family                                             </td><td> White                                                     </td><td> Male                                                      </td><td>2174                                                       </td><td>0                                                          </td><td>40                                                         </td><td> United-States                                             </td><td> &lt;=50K                                                  </td></tr>\n",
       "\t<tr><td>50                                                        </td><td> Self-emp-not-inc                                         </td><td> 83311                                                    </td><td> Bachelors                                                </td><td>13                                                        </td><td> Married-civ-spouse                                       </td><td><span style=white-space:pre-wrap> Exec-managerial  </span></td><td><span style=white-space:pre-wrap> Husband      </span>    </td><td> White                                                    </td><td> Male                                                     </td><td><span style=white-space:pre-wrap>   0</span>              </td><td>0                                                         </td><td>13                                                        </td><td> United-States                                            </td><td> &lt;=50K                                                 </td></tr>\n",
       "\t<tr><td>38                                                         </td><td><span style=white-space:pre-wrap> Private         </span>  </td><td>215646                                                     </td><td><span style=white-space:pre-wrap> HS-grad  </span>         </td><td> 9                                                         </td><td><span style=white-space:pre-wrap> Divorced          </span></td><td> Handlers-cleaners                                         </td><td> Not-in-family                                             </td><td> White                                                     </td><td> Male                                                      </td><td><span style=white-space:pre-wrap>   0</span>               </td><td>0                                                          </td><td>40                                                         </td><td> United-States                                             </td><td> &lt;=50K                                                  </td></tr>\n",
       "</tbody>\n",
       "</table>\n"
      ],
      "text/latex": [
       "\\begin{tabular}{r|lllllllllllllll}\n",
       " age & workclass & fnlwgt & education & education\\_num & marital\\_status & occupation & relationship & race & sex & capital\\_gain & capital\\_loss & hours\\_per\\_week & native\\_country & class\\\\\n",
       "\\hline\n",
       "\t 39                  &  State-gov          &  77516              &  Bachelors          & 13                  &  Never-married      &  Adm-clerical       &  Not-in-family      &  White              &  Male               & 2174                & 0                   & 40                  &  United-States      &  <=50K             \\\\\n",
       "\t 50                  &  Self-emp-not-inc   &  83311              &  Bachelors          & 13                  &  Married-civ-spouse &  Exec-managerial    &  Husband            &  White              &  Male               &    0                & 0                   & 13                  &  United-States      &  <=50K             \\\\\n",
       "\t 38                  &  Private            & 215646              &  HS-grad            &  9                  &  Divorced           &  Handlers-cleaners  &  Not-in-family      &  White              &  Male               &    0                & 0                   & 40                  &  United-States      &  <=50K             \\\\\n",
       "\\end{tabular}\n"
      ],
      "text/markdown": [
       "\n",
       "age | workclass | fnlwgt | education | education_num | marital_status | occupation | relationship | race | sex | capital_gain | capital_loss | hours_per_week | native_country | class | \n",
       "|---|---|---|\n",
       "| 39                  |  State-gov          |  77516              |  Bachelors          | 13                  |  Never-married      |  Adm-clerical       |  Not-in-family      |  White              |  Male               | 2174                | 0                   | 40                  |  United-States      |  <=50K              | \n",
       "| 50                  |  Self-emp-not-inc   |  83311              |  Bachelors          | 13                  |  Married-civ-spouse |  Exec-managerial    |  Husband            |  White              |  Male               |    0                | 0                   | 13                  |  United-States      |  <=50K              | \n",
       "| 38                  |  Private            | 215646              |  HS-grad            |  9                  |  Divorced           |  Handlers-cleaners  |  Not-in-family      |  White              |  Male               |    0                | 0                   | 40                  |  United-States      |  <=50K              | \n",
       "\n",
       "\n"
      ],
      "text/plain": [
       "  age workclass         fnlwgt education  education_num marital_status     \n",
       "1 39   State-gov         77516  Bachelors 13             Never-married     \n",
       "2 50   Self-emp-not-inc  83311  Bachelors 13             Married-civ-spouse\n",
       "3 38   Private          215646  HS-grad    9             Divorced          \n",
       "  occupation         relationship   race   sex   capital_gain capital_loss\n",
       "1  Adm-clerical       Not-in-family  White  Male 2174         0           \n",
       "2  Exec-managerial    Husband        White  Male    0         0           \n",
       "3  Handlers-cleaners  Not-in-family  White  Male    0         0           \n",
       "  hours_per_week native_country class \n",
       "1 40              United-States  <=50K\n",
       "2 13              United-States  <=50K\n",
       "3 40              United-States  <=50K"
      ]
     },
     "metadata": {},
     "output_type": "display_data"
    },
    {
     "data": {
      "text/plain": [
       "Confusion Matrix and Statistics\n",
       "\n",
       "          Reference\n",
       "Prediction  <=50K  >50K\n",
       "     <=50K   7028  1151\n",
       "     >50K     388  1201\n",
       "                                          \n",
       "               Accuracy : 0.8424          \n",
       "                 95% CI : (0.8351, 0.8496)\n",
       "    No Information Rate : 0.7592          \n",
       "    P-Value [Acc > NIR] : < 2.2e-16       \n",
       "                                          \n",
       "                  Kappa : 0.5154          \n",
       " Mcnemar's Test P-Value : < 2.2e-16       \n",
       "                                          \n",
       "            Sensitivity : 0.9477          \n",
       "            Specificity : 0.5106          \n",
       "         Pos Pred Value : 0.8593          \n",
       "         Neg Pred Value : 0.7558          \n",
       "             Prevalence : 0.7592          \n",
       "         Detection Rate : 0.7195          \n",
       "   Detection Prevalence : 0.8373          \n",
       "      Balanced Accuracy : 0.7292          \n",
       "                                          \n",
       "       'Positive' Class :  <=50K          \n",
       "                                          "
      ]
     },
     "metadata": {},
     "output_type": "display_data"
    },
    {
     "data": {
      "image/png": "[encoded data removed]",
      "text/plain": [
       "Plot with title \"\""
      ]
     },
     "metadata": {},
     "output_type": "display_data",
     "source": "R display func"
    }
   ],
   "source": [
    "head(adult_clean13, 3)\n",
    "adult_clean13$class <- as.numeric(adult_clean13$class)\n",
    "dummy <- dummyVars( ~ ., data = adult_clean13)\n",
    "adult_hot13 <- data.frame(predict(dummy, newdata = adult_clean13))\n",
    "\n",
    "adult_hot13$class[adult_hot13$class == 1] <- \" <=50K\"\n",
    "adult_hot13$class[adult_hot13$class == 2] <- \" >50K\"\n",
    "\n",
    "preProcess_Scaled13 <- preProcess(adult_hot13, method=c(\"center\", \"scale\"))\n",
    "adult_scaled13 <- predict(preProcess_Scaled13, newdata = adult_hot13)\n",
    "\n",
    "set.seed(2018)\n",
    "split13 <- createDataPartition(adult_scaled13$class, p = .7, list = FALSE, times = 1)\n",
    "adult_train13 <- adult[split13,]\n",
    "adult_test13 <- adult[-split13,]\n",
    "\n",
    "decision_tree13 <- rpart(class~., data = adult_train13, method = \"class\")\n",
    "\n",
    "fancyRpartPlot(decision_tree13)\n",
    "\n",
    "predicting_test13 <- predict(decision_tree13, adult_test13, type = \"class\")\n",
    "\n",
    "conf_matrix13 <- confusionMatrix(data = predicting_test13, reference = adult_test13$class)\n",
    "conf_matrix13"
   ]
  },
  {
   "cell_type": "markdown",
   "metadata": {},
   "source": [
    "All of the methods used create similar decision trees and classifications rates. Most models produced an accuracy of around 0.84 percent on the testing data although the random forest model did slightly better at 0.86 percent accurancy."
   ]
  }
 ],
 "metadata": {
  "kernelspec": {
   "display_name": "R",
   "language": "R",
   "name": "ir"
  },
  "language_info": {
   "codemirror_mode": "r",
   "file_extension": ".r",
   "mimetype": "text/x-r-source",
   "name": "R",
   "pygments_lexer": "r",
   "version": "3.5.1"
  }
 },
 "nbformat": 4,
 "nbformat_minor": 2
}
