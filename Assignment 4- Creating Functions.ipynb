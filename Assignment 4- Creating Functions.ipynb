{
 "cells": [
  {
   "cell_type": "markdown",
   "metadata": {},
   "source": [
    "# Assignment 4- Creating Functions"
   ]
  },
  {
   "cell_type": "code",
   "execution_count": null,
   "metadata": {},
   "outputs": [],
   "source": [
    "This assignment deals with creating functions with inputs of either variables, vectors, or data frames."
   ]
  },
  {
   "cell_type": "markdown",
   "metadata": {},
   "source": [
    "### 1.) Creating the function x^2+3x+1"
   ]
  },
  {
   "cell_type": "code",
   "execution_count": 1,
   "metadata": {},
   "outputs": [
    {
     "data": {
      "text/html": [
       "19"
      ],
      "text/latex": [
       "19"
      ],
      "text/markdown": [
       "19"
      ],
      "text/plain": [
       "[1] 19"
      ]
     },
     "metadata": {},
     "output_type": "display_data"
    }
   ],
   "source": [
    "quadratic = function(x)\n",
    "{\n",
    "  return(x^2+3*x+1)\n",
    "}\n",
    "\n",
    "#testing\n",
    "quadratic(3)"
   ]
  },
  {
   "cell_type": "markdown",
   "metadata": {},
   "source": [
    "### 2.) Product of vector function"
   ]
  },
  {
   "cell_type": "code",
   "execution_count": 2,
   "metadata": {},
   "outputs": [
    {
     "data": {
      "text/html": [
       "24"
      ],
      "text/latex": [
       "24"
      ],
      "text/markdown": [
       "24"
      ],
      "text/plain": [
       "[1] 24"
      ]
     },
     "metadata": {},
     "output_type": "display_data"
    }
   ],
   "source": [
    "prodvect = function(v)\n",
    "{\n",
    "  p = 1\n",
    "  for (i in 1:length(v))\n",
    "  {\n",
    "    p = p*v[i]\n",
    "  }\n",
    "  return(p)\n",
    "}\n",
    "\n",
    "#testing function\n",
    "x=c(1,2,3,4)\n",
    "prodvect(x)"
   ]
  },
  {
   "cell_type": "markdown",
   "metadata": {},
   "source": [
    "### 3.) Replacing missing values in vector with n"
   ]
  },
  {
   "cell_type": "code",
   "execution_count": 9,
   "metadata": {},
   "outputs": [
    {
     "data": {
      "text/html": [
       "<ol class=list-inline>\n",
       "\t<li>1</li>\n",
       "\t<li>2</li>\n",
       "\t<li>3</li>\n",
       "\t<li>4</li>\n",
       "\t<li>4</li>\n",
       "</ol>\n"
      ],
      "text/latex": [
       "\\begin{enumerate*}\n",
       "\\item 1\n",
       "\\item 2\n",
       "\\item 3\n",
       "\\item 4\n",
       "\\item 4\n",
       "\\end{enumerate*}\n"
      ],
      "text/markdown": [
       "1. 1\n",
       "2. 2\n",
       "3. 3\n",
       "4. 4\n",
       "5. 4\n",
       "\n",
       "\n"
      ],
      "text/plain": [
       "[1] 1 2 3 4 4"
      ]
     },
     "metadata": {},
     "output_type": "display_data"
    }
   ],
   "source": [
    "replace_n = function(v, n)\n",
    "{\n",
    "  (v[is.na(v)] = n)\n",
    "  v\n",
    "}\n",
    "\n",
    "#testing\n",
    "v = c(1, 2, 3, 4, NA)\n",
    "replace_n(v, 4)"
   ]
  },
  {
   "cell_type": "markdown",
   "metadata": {},
   "source": [
    "### 4.) Replace missing values in vector with mean"
   ]
  },
  {
   "cell_type": "code",
   "execution_count": 10,
   "metadata": {},
   "outputs": [
    {
     "data": {
      "text/html": [
       "<ol class=list-inline>\n",
       "\t<li>1</li>\n",
       "\t<li>2</li>\n",
       "\t<li>3</li>\n",
       "\t<li>4</li>\n",
       "\t<li>2.5</li>\n",
       "</ol>\n"
      ],
      "text/latex": [
       "\\begin{enumerate*}\n",
       "\\item 1\n",
       "\\item 2\n",
       "\\item 3\n",
       "\\item 4\n",
       "\\item 2.5\n",
       "\\end{enumerate*}\n"
      ],
      "text/markdown": [
       "1. 1\n",
       "2. 2\n",
       "3. 3\n",
       "4. 4\n",
       "5. 2.5\n",
       "\n",
       "\n"
      ],
      "text/plain": [
       "[1] 1.0 2.0 3.0 4.0 2.5"
      ]
     },
     "metadata": {},
     "output_type": "display_data"
    }
   ],
   "source": [
    "replace_mean = function(v)\n",
    "{\n",
    "  (v[is.na(v)] = mean(v, na.rm = TRUE))\n",
    "  v\n",
    "}\n",
    "\n",
    "#testing\n",
    "v = c(1, 2, 3, 4, NA)\n",
    "replace_mean(v)"
   ]
  },
  {
   "cell_type": "markdown",
   "metadata": {},
   "source": [
    "### 5.) Replace missing values in data frame with mean"
   ]
  },
  {
   "cell_type": "code",
   "execution_count": 15,
   "metadata": {},
   "outputs": [
    {
     "data": {
      "text/html": [
       "'C:/Users/student/Documents/Data Analysis Practice Data Sets/Titanic Practice'"
      ],
      "text/latex": [
       "'C:/Users/student/Documents/Data Analysis Practice Data Sets/Titanic Practice'"
      ],
      "text/markdown": [
       "'C:/Users/student/Documents/Data Analysis Practice Data Sets/Titanic Practice'"
      ],
      "text/plain": [
       "[1] \"C:/Users/student/Documents/Data Analysis Practice Data Sets/Titanic Practice\""
      ]
     },
     "metadata": {},
     "output_type": "display_data"
    },
    {
     "data": {
      "text/html": [
       "<table>\n",
       "<thead><tr><th></th><th scope=col>PassengerId</th><th scope=col>Survived</th><th scope=col>Pclass</th><th scope=col>Name</th><th scope=col>Sex</th><th scope=col>Age</th><th scope=col>SibSp</th><th scope=col>Parch</th><th scope=col>Ticket</th><th scope=col>Fare</th><th scope=col>Cabin</th><th scope=col>Embarked</th></tr></thead>\n",
       "<tbody>\n",
       "\t<tr><th scope=row>4</th><td>4                                           </td><td>1                                           </td><td>1                                           </td><td>Futrelle, Mrs. Jacques Heath (Lily May Peel)</td><td>female                                      </td><td>35                                          </td><td>1                                           </td><td>0                                           </td><td>113803                                      </td><td>53.1000                                     </td><td>C123                                        </td><td>S                                           </td></tr>\n",
       "\t<tr><th scope=row>5</th><td>5                                           </td><td>0                                           </td><td>3                                           </td><td>Allen, Mr. William Henry                    </td><td>male                                        </td><td>35                                          </td><td>0                                           </td><td>0                                           </td><td>373450                                      </td><td> 8.0500                                     </td><td>                                            </td><td>S                                           </td></tr>\n",
       "\t<tr><th scope=row>6</th><td>6                                           </td><td>0                                           </td><td>3                                           </td><td>Moran, Mr. James                            </td><td>male                                        </td><td>NA                                          </td><td>0                                           </td><td>0                                           </td><td>330877                                      </td><td> 8.4583                                     </td><td>                                            </td><td>Q                                           </td></tr>\n",
       "\t<tr><th scope=row>7</th><td>7                                           </td><td>0                                           </td><td>1                                           </td><td>McCarthy, Mr. Timothy J                     </td><td>male                                        </td><td>54                                          </td><td>0                                           </td><td>0                                           </td><td>17463                                       </td><td>51.8625                                     </td><td>E46                                         </td><td>S                                           </td></tr>\n",
       "</tbody>\n",
       "</table>\n"
      ],
      "text/latex": [
       "\\begin{tabular}{r|llllllllllll}\n",
       "  & PassengerId & Survived & Pclass & Name & Sex & Age & SibSp & Parch & Ticket & Fare & Cabin & Embarked\\\\\n",
       "\\hline\n",
       "\t4 & 4                                            & 1                                            & 1                                            & Futrelle, Mrs. Jacques Heath (Lily May Peel) & female                                       & 35                                           & 1                                            & 0                                            & 113803                                       & 53.1000                                      & C123                                         & S                                           \\\\\n",
       "\t5 & 5                                            & 0                                            & 3                                            & Allen, Mr. William Henry                     & male                                         & 35                                           & 0                                            & 0                                            & 373450                                       &  8.0500                                      &                                              & S                                           \\\\\n",
       "\t6 & 6                                            & 0                                            & 3                                            & Moran, Mr. James                             & male                                         & NA                                           & 0                                            & 0                                            & 330877                                       &  8.4583                                      &                                              & Q                                           \\\\\n",
       "\t7 & 7                                            & 0                                            & 1                                            & McCarthy, Mr. Timothy J                      & male                                         & 54                                           & 0                                            & 0                                            & 17463                                        & 51.8625                                      & E46                                          & S                                           \\\\\n",
       "\\end{tabular}\n"
      ],
      "text/markdown": [
       "\n",
       "| <!--/--> | PassengerId | Survived | Pclass | Name | Sex | Age | SibSp | Parch | Ticket | Fare | Cabin | Embarked | \n",
       "|---|---|---|---|\n",
       "| 4 | 4                                            | 1                                            | 1                                            | Futrelle, Mrs. Jacques Heath (Lily May Peel) | female                                       | 35                                           | 1                                            | 0                                            | 113803                                       | 53.1000                                      | C123                                         | S                                            | \n",
       "| 5 | 5                                            | 0                                            | 3                                            | Allen, Mr. William Henry                     | male                                         | 35                                           | 0                                            | 0                                            | 373450                                       |  8.0500                                      |                                              | S                                            | \n",
       "| 6 | 6                                            | 0                                            | 3                                            | Moran, Mr. James                             | male                                         | NA                                           | 0                                            | 0                                            | 330877                                       |  8.4583                                      |                                              | Q                                            | \n",
       "| 7 | 7                                            | 0                                            | 1                                            | McCarthy, Mr. Timothy J                      | male                                         | 54                                           | 0                                            | 0                                            | 17463                                        | 51.8625                                      | E46                                          | S                                            | \n",
       "\n",
       "\n"
      ],
      "text/plain": [
       "  PassengerId Survived Pclass Name                                        \n",
       "4 4           1        1      Futrelle, Mrs. Jacques Heath (Lily May Peel)\n",
       "5 5           0        3      Allen, Mr. William Henry                    \n",
       "6 6           0        3      Moran, Mr. James                            \n",
       "7 7           0        1      McCarthy, Mr. Timothy J                     \n",
       "  Sex    Age SibSp Parch Ticket Fare    Cabin Embarked\n",
       "4 female 35  1     0     113803 53.1000 C123  S       \n",
       "5 male   35  0     0     373450  8.0500       S       \n",
       "6 male   NA  0     0     330877  8.4583       Q       \n",
       "7 male   54  0     0     17463  51.8625 E46   S       "
      ]
     },
     "metadata": {},
     "output_type": "display_data"
    },
    {
     "name": "stderr",
     "output_type": "stream",
     "text": [
      "Warning message in mean.default(data[, i], na.rm = TRUE):\n",
      "\"argument is not numeric or logical: returning NA\"Warning message in mean.default(data[, i], na.rm = TRUE):\n",
      "\"argument is not numeric or logical: returning NA\"Warning message in mean.default(data[, i], na.rm = TRUE):\n",
      "\"argument is not numeric or logical: returning NA\"Warning message in mean.default(data[, i], na.rm = TRUE):\n",
      "\"argument is not numeric or logical: returning NA\"Warning message in mean.default(data[, i], na.rm = TRUE):\n",
      "\"argument is not numeric or logical: returning NA\""
     ]
    },
    {
     "data": {
      "text/html": [
       "<table>\n",
       "<thead><tr><th></th><th scope=col>PassengerId</th><th scope=col>Survived</th><th scope=col>Pclass</th><th scope=col>Name</th><th scope=col>Sex</th><th scope=col>Age</th><th scope=col>SibSp</th><th scope=col>Parch</th><th scope=col>Ticket</th><th scope=col>Fare</th><th scope=col>Cabin</th><th scope=col>Embarked</th></tr></thead>\n",
       "<tbody>\n",
       "\t<tr><th scope=row>4</th><td>4                                           </td><td>1                                           </td><td>1                                           </td><td>Futrelle, Mrs. Jacques Heath (Lily May Peel)</td><td>female                                      </td><td>35.00000                                    </td><td>1                                           </td><td>0                                           </td><td>113803                                      </td><td>53.1000                                     </td><td>C123                                        </td><td>S                                           </td></tr>\n",
       "\t<tr><th scope=row>5</th><td>5                                           </td><td>0                                           </td><td>3                                           </td><td>Allen, Mr. William Henry                    </td><td>male                                        </td><td>35.00000                                    </td><td>0                                           </td><td>0                                           </td><td>373450                                      </td><td> 8.0500                                     </td><td>                                            </td><td>S                                           </td></tr>\n",
       "\t<tr><th scope=row>6</th><td>6                                           </td><td>0                                           </td><td>3                                           </td><td>Moran, Mr. James                            </td><td>male                                        </td><td>29.69912                                    </td><td>0                                           </td><td>0                                           </td><td>330877                                      </td><td> 8.4583                                     </td><td>                                            </td><td>Q                                           </td></tr>\n",
       "\t<tr><th scope=row>7</th><td>7                                           </td><td>0                                           </td><td>1                                           </td><td>McCarthy, Mr. Timothy J                     </td><td>male                                        </td><td>54.00000                                    </td><td>0                                           </td><td>0                                           </td><td>17463                                       </td><td>51.8625                                     </td><td>E46                                         </td><td>S                                           </td></tr>\n",
       "</tbody>\n",
       "</table>\n"
      ],
      "text/latex": [
       "\\begin{tabular}{r|llllllllllll}\n",
       "  & PassengerId & Survived & Pclass & Name & Sex & Age & SibSp & Parch & Ticket & Fare & Cabin & Embarked\\\\\n",
       "\\hline\n",
       "\t4 & 4                                            & 1                                            & 1                                            & Futrelle, Mrs. Jacques Heath (Lily May Peel) & female                                       & 35.00000                                     & 1                                            & 0                                            & 113803                                       & 53.1000                                      & C123                                         & S                                           \\\\\n",
       "\t5 & 5                                            & 0                                            & 3                                            & Allen, Mr. William Henry                     & male                                         & 35.00000                                     & 0                                            & 0                                            & 373450                                       &  8.0500                                      &                                              & S                                           \\\\\n",
       "\t6 & 6                                            & 0                                            & 3                                            & Moran, Mr. James                             & male                                         & 29.69912                                     & 0                                            & 0                                            & 330877                                       &  8.4583                                      &                                              & Q                                           \\\\\n",
       "\t7 & 7                                            & 0                                            & 1                                            & McCarthy, Mr. Timothy J                      & male                                         & 54.00000                                     & 0                                            & 0                                            & 17463                                        & 51.8625                                      & E46                                          & S                                           \\\\\n",
       "\\end{tabular}\n"
      ],
      "text/markdown": [
       "\n",
       "| <!--/--> | PassengerId | Survived | Pclass | Name | Sex | Age | SibSp | Parch | Ticket | Fare | Cabin | Embarked | \n",
       "|---|---|---|---|\n",
       "| 4 | 4                                            | 1                                            | 1                                            | Futrelle, Mrs. Jacques Heath (Lily May Peel) | female                                       | 35.00000                                     | 1                                            | 0                                            | 113803                                       | 53.1000                                      | C123                                         | S                                            | \n",
       "| 5 | 5                                            | 0                                            | 3                                            | Allen, Mr. William Henry                     | male                                         | 35.00000                                     | 0                                            | 0                                            | 373450                                       |  8.0500                                      |                                              | S                                            | \n",
       "| 6 | 6                                            | 0                                            | 3                                            | Moran, Mr. James                             | male                                         | 29.69912                                     | 0                                            | 0                                            | 330877                                       |  8.4583                                      |                                              | Q                                            | \n",
       "| 7 | 7                                            | 0                                            | 1                                            | McCarthy, Mr. Timothy J                      | male                                         | 54.00000                                     | 0                                            | 0                                            | 17463                                        | 51.8625                                      | E46                                          | S                                            | \n",
       "\n",
       "\n"
      ],
      "text/plain": [
       "  PassengerId Survived Pclass Name                                        \n",
       "4 4           1        1      Futrelle, Mrs. Jacques Heath (Lily May Peel)\n",
       "5 5           0        3      Allen, Mr. William Henry                    \n",
       "6 6           0        3      Moran, Mr. James                            \n",
       "7 7           0        1      McCarthy, Mr. Timothy J                     \n",
       "  Sex    Age      SibSp Parch Ticket Fare    Cabin Embarked\n",
       "4 female 35.00000 1     0     113803 53.1000 C123  S       \n",
       "5 male   35.00000 0     0     373450  8.0500       S       \n",
       "6 male   29.69912 0     0     330877  8.4583       Q       \n",
       "7 male   54.00000 0     0     17463  51.8625 E46   S       "
      ]
     },
     "metadata": {},
     "output_type": "display_data"
    }
   ],
   "source": [
    "missing_mean <- function(data)\n",
    "{\n",
    "  for(i in 1:ncol(data)){\n",
    "    data[is.na(data[,i]), i] <- mean(data[,i], na.rm = TRUE)\n",
    "  }\n",
    "  return(data)\n",
    "}\n",
    "\n",
    "#testing\n",
    "setwd(\"~/Data Analysis Practice Data Sets/Titanic Practice\")\n",
    "getwd()\n",
    "titanic <- read.csv(\"train.csv\")\n",
    "titanic[4:7,]\n",
    "titanic2 <- missing_mean(titanic)\n",
    "titanic2[4:7,]"
   ]
  },
  {
   "cell_type": "markdown",
   "metadata": {},
   "source": [
    "### 6.) Bar chart function with one variable"
   ]
  },
  {
   "cell_type": "code",
   "execution_count": 16,
   "metadata": {},
   "outputs": [
    {
     "data": {},
     "metadata": {},
     "output_type": "display_data"
    },
    {
     "data": {
      "image/png": "[encoded data removed]",
      "text/plain": [
       "plot without title"
      ]
     },
     "metadata": {},
     "output_type": "display_data",
     "source": "R display func"
    }
   ],
   "source": [
    "bar_chart1 = function(data, variable)\n",
    "{\n",
    "  library(ggplot2)\n",
    "  ggplot(data) + \n",
    "    geom_bar(mapping = aes(x = data[,variable]))\n",
    "}\n",
    "\n",
    "#test on titanic data\n",
    "bar_chart1(titanic, \"Survived\")\n"
   ]
  },
  {
   "cell_type": "markdown",
   "metadata": {},
   "source": [
    "### 7.) Bar chart function with two variables"
   ]
  },
  {
   "cell_type": "code",
   "execution_count": 20,
   "metadata": {},
   "outputs": [
    {
     "data": {},
     "metadata": {},
     "output_type": "display_data"
    },
    {
     "data": {
      "image/png": "[encoded data removed]",
      "text/plain": [
       "plot without title"
      ]
     },
     "metadata": {},
     "output_type": "display_data",
     "source": "R display func"
    }
   ],
   "source": [
    "bar_chart2 = function(data, variable1, variable2)\n",
    "{\n",
    "  library(ggplot2)\n",
    "  ggplot(data) + \n",
    "    geom_bar(mapping = aes(x = data[,variable1], fill=data[,variable2])) +\n",
    "    xlab(variable1) +\n",
    "    ylab(variable2)\n",
    "}\n",
    "\n",
    "#testing function\n",
    "bar_chart2(titanic, \"Pclass\", \"Survived\")"
   ]
  },
  {
   "cell_type": "code",
   "execution_count": null,
   "metadata": {},
   "outputs": [],
   "source": []
  }
 ],
 "metadata": {
  "kernelspec": {
   "display_name": "R",
   "language": "R",
   "name": "ir"
  },
  "language_info": {
   "codemirror_mode": "r",
   "file_extension": ".r",
   "mimetype": "text/x-r-source",
   "name": "R",
   "pygments_lexer": "r",
   "version": "3.5.1"
  }
 },
 "nbformat": 4,
 "nbformat_minor": 2
}
