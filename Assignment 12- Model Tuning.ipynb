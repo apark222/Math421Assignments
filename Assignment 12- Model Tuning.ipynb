{
 "cells": [
  {
   "cell_type": "markdown",
   "metadata": {},
   "source": [
    "# Assignment 12- Model Tuning"
   ]
  },
  {
   "cell_type": "markdown",
   "metadata": {},
   "source": [
    "This assignment again goes through the model building process for both the \"titanic\" and \"adult\" data sets. Instead of splitting the data into training and testing data to measure the accuracy though, cross validation is used. Multiple combinations of different hyperparameters are used when training the model as well which makes this code take more time to run. A random forest is also trained in this code"
   ]
  },
  {
   "cell_type": "markdown",
   "metadata": {},
   "source": [
    "### 1.\tPreprocess the data so that it is ready to train predictive models."
   ]
  },
  {
   "cell_type": "code",
   "execution_count": 1,
   "metadata": {},
   "outputs": [
    {
     "data": {
      "text/html": [
       "'C:/Users/student/Documents/Junior S1/Statistical Analysis with R/Modeling'"
      ],
      "text/latex": [
       "'C:/Users/student/Documents/Junior S1/Statistical Analysis with R/Modeling'"
      ],
      "text/markdown": [
       "'C:/Users/student/Documents/Junior S1/Statistical Analysis with R/Modeling'"
      ],
      "text/plain": [
       "[1] \"C:/Users/student/Documents/Junior S1/Statistical Analysis with R/Modeling\""
      ]
     },
     "metadata": {},
     "output_type": "display_data"
    },
    {
     "data": {
      "text/html": [
       "'C:/Users/student/Documents/Data Analysis Practice Data Sets'"
      ],
      "text/latex": [
       "'C:/Users/student/Documents/Data Analysis Practice Data Sets'"
      ],
      "text/markdown": [
       "'C:/Users/student/Documents/Data Analysis Practice Data Sets'"
      ],
      "text/plain": [
       "[1] \"C:/Users/student/Documents/Data Analysis Practice Data Sets\""
      ]
     },
     "metadata": {},
     "output_type": "display_data"
    },
    {
     "name": "stderr",
     "output_type": "stream",
     "text": [
      "Loading required package: lattice\n",
      "Loading required package: ggplot2\n"
     ]
    }
   ],
   "source": [
    "#Upload adult data set\n",
    "getwd()\n",
    "setwd(\"C:/Users/student/Documents/Data Analysis Practice Data Sets\")\n",
    "adult <- read.csv(\"adult_data.csv\", header = FALSE, na.strings = \" ?\")\n",
    "names(adult) <- c(\"age\", \"workclass\", \"fnlwgt\", \"education\", \"education_num\", \"marital_status\", \"occupation\", \"relationship\", \"race\", \"sex\", \"capital_gain\", \"capital_loss\", \"hours_per_week\", \"native_country\", \"class\")\n",
    "colnames(adult)[colnames(adult) ==\"class\"] <- \"target\"\n",
    "adult$target = factor(adult$target)\n",
    "\n",
    "#Upload titanic data set\n",
    "getwd()\n",
    "setwd(\"C:/Users/student/Documents/Data Analysis Practice Data Sets/Titanic Practice\")\n",
    "titanic <- read.csv(\"train.csv\")\n",
    "titanic$PassengerId = NULL\n",
    "titanic$Name = NULL\n",
    "titanic$Ticket = NULL\n",
    "titanic$Cabin = NULL\n",
    "titanic$Survived = factor(titanic$Survived)\n",
    "titanic$Pclass = factor(titanic$Pclass)\n",
    "colnames(titanic)[colnames(titanic) == \"Survived\"] <- \"target\"\n",
    "\n",
    "#Clean categorical variables\n",
    "most_frequent <- function(x){\n",
    "   unique_x <- unique(x)\n",
    "   unique_x[which.max(tabulate(match(x, unique_x)))]\n",
    "}\n",
    "\n",
    "cat.data.cleaning <- function(data)\n",
    "{\n",
    "  for (i in which(sapply(data, is.factor))){\n",
    "        data[is.na(data[,i]), i] <- most_frequent(data[,i])\n",
    "    }\n",
    "  return(data)\n",
    "}\n",
    "\n",
    "adult <- cat.data.cleaning(adult)\n",
    "titanic <- cat.data.cleaning(titanic)\n",
    "\n",
    "#Impute data\n",
    "impute <- function(data)\n",
    "{\n",
    "  library(caret)\n",
    "  data_preProcess <- preProcess(data, method = \"medianImpute\")\n",
    "  data <- data.frame(predict(data_preProcess, newdata = data))\n",
    "  return(data)\n",
    "}\n",
    "\n",
    "adult <- impute(adult)\n",
    "titanic <- impute(titanic)\n",
    "\n",
    "#Simplify categories into fewer groups\n",
    "adult$education_new[adult$education %in% c(\" 1st-4th\", \" 5th-6th\", \n",
    "                                                       \" 7th-8th\", \" 9th\", \" 10th\",\n",
    "                                                        \" 11th\", \" 12th\", \n",
    "                                                        \" Preschool\")] <- \" Dropout\"\n",
    "adult$education_new[adult$education %in% c(\" HS-grad\")] <- \" HS-grad\"\n",
    "adult$education_new[adult$education %in% c(\" Assoc-acdm\", \" Assoc-voc\", \n",
    "                                                      \" Some-college\")] <- \" Some-college\"\n",
    "adult$education_new[adult$education %in% c(\" Bachelors\")] <- \" Bachelors\"\n",
    "adult$education_new[adult$education %in% c(\" Doctorate\", \" Masters\", \n",
    "                                                        \" Prof-school\")] <- \" Post_grad_schooling\"\n",
    "adult$education_new <- as.factor(adult$education_new)\n",
    "\n",
    "#occupation\n",
    "#levels(adult$occupation)\n",
    "adult$occupation_new <- ifelse(adult$occupation %in% c( \" Protective-serv\", \n",
    "                                                                    \" Armed-Forces\"),\n",
    "                                                                    \" Safety_or_Forces\", NA)\n",
    "adult$occupation_new[adult$occupation %in% c(\" Tech-support\",\" Machine-op-inspct\",\n",
    "                                             \" Craft-repair\")] <- \" Tech_engineer\"\n",
    "adult$occupation_new[adult$occupation %in% c(\" Sales\", \n",
    "                                            \" Exec-managerial\", \" Adm-clerical\", \n",
    "                                            \" Prof-specialty\", \" Other-service\")] <- \" Office_job\"\n",
    "adult$occupation_new[adult$occupation %in% c(\" Farming-fishing\", \" Handlers-cleaners\",\n",
    "                                            \" Priv-house-serv\",\n",
    "                                            \" Transport-moving\")] <- \" Blue_collar\"\n",
    "adult$occupation_new <- as.factor(adult$occupation_new)\n",
    "\n",
    "#native country\n",
    "library(countrycode)\n",
    "adult$native_continent <- factor(countrycode(sourcevar = adult[,\"native_country\"],\n",
    "                                 origin = \"country.name\",\n",
    "                                 destination = \"continent\"))\n",
    "\n",
    "adult$native_country = NULL\n",
    "adult$education = NULL\n",
    "adult$occupation = NULL\n"
   ]
  },
  {
   "cell_type": "markdown",
   "metadata": {},
   "source": [
    "### 2. Train a random forest with 7-fold cross validation.  Report the accuracy of the forest."
   ]
  },
  {
   "cell_type": "code",
   "execution_count": 2,
   "metadata": {},
   "outputs": [
    {
     "name": "stdout",
     "output_type": "stream",
     "text": [
      "+ Fold1: mtry=2, splitrule=gini, min.node.size=1 \n",
      "- Fold1: mtry=2, splitrule=gini, min.node.size=1 \n",
      "+ Fold1: mtry=2, splitrule=gini, min.node.size=2 \n",
      "- Fold1: mtry=2, splitrule=gini, min.node.size=2 \n",
      "+ Fold1: mtry=2, splitrule=gini, min.node.size=3 \n",
      "- Fold1: mtry=2, splitrule=gini, min.node.size=3 \n",
      "+ Fold1: mtry=2, splitrule=gini, min.node.size=4 \n",
      "- Fold1: mtry=2, splitrule=gini, min.node.size=4 \n",
      "+ Fold1: mtry=2, splitrule=gini, min.node.size=5 \n",
      "- Fold1: mtry=2, splitrule=gini, min.node.size=5 \n",
      "+ Fold2: mtry=2, splitrule=gini, min.node.size=1 \n",
      "- Fold2: mtry=2, splitrule=gini, min.node.size=1 \n",
      "+ Fold2: mtry=2, splitrule=gini, min.node.size=2 \n",
      "- Fold2: mtry=2, splitrule=gini, min.node.size=2 \n",
      "+ Fold2: mtry=2, splitrule=gini, min.node.size=3 \n",
      "- Fold2: mtry=2, splitrule=gini, min.node.size=3 \n",
      "+ Fold2: mtry=2, splitrule=gini, min.node.size=4 \n",
      "- Fold2: mtry=2, splitrule=gini, min.node.size=4 \n",
      "+ Fold2: mtry=2, splitrule=gini, min.node.size=5 \n",
      "- Fold2: mtry=2, splitrule=gini, min.node.size=5 \n",
      "+ Fold3: mtry=2, splitrule=gini, min.node.size=1 \n",
      "- Fold3: mtry=2, splitrule=gini, min.node.size=1 \n",
      "+ Fold3: mtry=2, splitrule=gini, min.node.size=2 \n",
      "- Fold3: mtry=2, splitrule=gini, min.node.size=2 \n",
      "+ Fold3: mtry=2, splitrule=gini, min.node.size=3 \n",
      "- Fold3: mtry=2, splitrule=gini, min.node.size=3 \n",
      "+ Fold3: mtry=2, splitrule=gini, min.node.size=4 \n",
      "- Fold3: mtry=2, splitrule=gini, min.node.size=4 \n",
      "+ Fold3: mtry=2, splitrule=gini, min.node.size=5 \n",
      "- Fold3: mtry=2, splitrule=gini, min.node.size=5 \n",
      "+ Fold4: mtry=2, splitrule=gini, min.node.size=1 \n",
      "- Fold4: mtry=2, splitrule=gini, min.node.size=1 \n",
      "+ Fold4: mtry=2, splitrule=gini, min.node.size=2 \n",
      "- Fold4: mtry=2, splitrule=gini, min.node.size=2 \n",
      "+ Fold4: mtry=2, splitrule=gini, min.node.size=3 \n",
      "- Fold4: mtry=2, splitrule=gini, min.node.size=3 \n",
      "+ Fold4: mtry=2, splitrule=gini, min.node.size=4 \n",
      "- Fold4: mtry=2, splitrule=gini, min.node.size=4 \n",
      "+ Fold4: mtry=2, splitrule=gini, min.node.size=5 \n",
      "- Fold4: mtry=2, splitrule=gini, min.node.size=5 \n",
      "+ Fold5: mtry=2, splitrule=gini, min.node.size=1 \n",
      "- Fold5: mtry=2, splitrule=gini, min.node.size=1 \n",
      "+ Fold5: mtry=2, splitrule=gini, min.node.size=2 \n",
      "- Fold5: mtry=2, splitrule=gini, min.node.size=2 \n",
      "+ Fold5: mtry=2, splitrule=gini, min.node.size=3 \n",
      "- Fold5: mtry=2, splitrule=gini, min.node.size=3 \n",
      "+ Fold5: mtry=2, splitrule=gini, min.node.size=4 \n",
      "- Fold5: mtry=2, splitrule=gini, min.node.size=4 \n",
      "+ Fold5: mtry=2, splitrule=gini, min.node.size=5 \n",
      "- Fold5: mtry=2, splitrule=gini, min.node.size=5 \n",
      "+ Fold6: mtry=2, splitrule=gini, min.node.size=1 \n",
      "- Fold6: mtry=2, splitrule=gini, min.node.size=1 \n",
      "+ Fold6: mtry=2, splitrule=gini, min.node.size=2 \n",
      "- Fold6: mtry=2, splitrule=gini, min.node.size=2 \n",
      "+ Fold6: mtry=2, splitrule=gini, min.node.size=3 \n",
      "- Fold6: mtry=2, splitrule=gini, min.node.size=3 \n",
      "+ Fold6: mtry=2, splitrule=gini, min.node.size=4 \n",
      "- Fold6: mtry=2, splitrule=gini, min.node.size=4 \n",
      "+ Fold6: mtry=2, splitrule=gini, min.node.size=5 \n",
      "- Fold6: mtry=2, splitrule=gini, min.node.size=5 \n",
      "+ Fold7: mtry=2, splitrule=gini, min.node.size=1 \n",
      "- Fold7: mtry=2, splitrule=gini, min.node.size=1 \n",
      "+ Fold7: mtry=2, splitrule=gini, min.node.size=2 \n",
      "- Fold7: mtry=2, splitrule=gini, min.node.size=2 \n",
      "+ Fold7: mtry=2, splitrule=gini, min.node.size=3 \n",
      "- Fold7: mtry=2, splitrule=gini, min.node.size=3 \n",
      "+ Fold7: mtry=2, splitrule=gini, min.node.size=4 \n",
      "- Fold7: mtry=2, splitrule=gini, min.node.size=4 \n",
      "+ Fold7: mtry=2, splitrule=gini, min.node.size=5 \n",
      "- Fold7: mtry=2, splitrule=gini, min.node.size=5 \n",
      "Aggregating results\n",
      "Selecting tuning parameters\n",
      "Fitting mtry = 2, splitrule = gini, min.node.size = 2 on full training set\n",
      "+ Fold1: mtry=2, splitrule=gini, min.node.size=1 \n",
      "- Fold1: mtry=2, splitrule=gini, min.node.size=1 \n",
      "+ Fold1: mtry=2, splitrule=gini, min.node.size=2 \n",
      "- Fold1: mtry=2, splitrule=gini, min.node.size=2 \n",
      "+ Fold1: mtry=2, splitrule=gini, min.node.size=3 \n",
      "- Fold1: mtry=2, splitrule=gini, min.node.size=3 \n",
      "+ Fold1: mtry=2, splitrule=gini, min.node.size=4 \n",
      "- Fold1: mtry=2, splitrule=gini, min.node.size=4 \n",
      "+ Fold1: mtry=2, splitrule=gini, min.node.size=5 \n",
      "- Fold1: mtry=2, splitrule=gini, min.node.size=5 \n",
      "+ Fold2: mtry=2, splitrule=gini, min.node.size=1 \n",
      "- Fold2: mtry=2, splitrule=gini, min.node.size=1 \n",
      "+ Fold2: mtry=2, splitrule=gini, min.node.size=2 \n",
      "- Fold2: mtry=2, splitrule=gini, min.node.size=2 \n",
      "+ Fold2: mtry=2, splitrule=gini, min.node.size=3 \n",
      "- Fold2: mtry=2, splitrule=gini, min.node.size=3 \n",
      "+ Fold2: mtry=2, splitrule=gini, min.node.size=4 \n",
      "- Fold2: mtry=2, splitrule=gini, min.node.size=4 \n",
      "+ Fold2: mtry=2, splitrule=gini, min.node.size=5 \n",
      "- Fold2: mtry=2, splitrule=gini, min.node.size=5 \n",
      "+ Fold3: mtry=2, splitrule=gini, min.node.size=1 \n",
      "- Fold3: mtry=2, splitrule=gini, min.node.size=1 \n",
      "+ Fold3: mtry=2, splitrule=gini, min.node.size=2 \n",
      "- Fold3: mtry=2, splitrule=gini, min.node.size=2 \n",
      "+ Fold3: mtry=2, splitrule=gini, min.node.size=3 \n",
      "- Fold3: mtry=2, splitrule=gini, min.node.size=3 \n",
      "+ Fold3: mtry=2, splitrule=gini, min.node.size=4 \n",
      "- Fold3: mtry=2, splitrule=gini, min.node.size=4 \n",
      "+ Fold3: mtry=2, splitrule=gini, min.node.size=5 \n",
      "- Fold3: mtry=2, splitrule=gini, min.node.size=5 \n",
      "+ Fold4: mtry=2, splitrule=gini, min.node.size=1 \n",
      "- Fold4: mtry=2, splitrule=gini, min.node.size=1 \n",
      "+ Fold4: mtry=2, splitrule=gini, min.node.size=2 \n",
      "- Fold4: mtry=2, splitrule=gini, min.node.size=2 \n",
      "+ Fold4: mtry=2, splitrule=gini, min.node.size=3 \n",
      "- Fold4: mtry=2, splitrule=gini, min.node.size=3 \n",
      "+ Fold4: mtry=2, splitrule=gini, min.node.size=4 \n",
      "- Fold4: mtry=2, splitrule=gini, min.node.size=4 \n",
      "+ Fold4: mtry=2, splitrule=gini, min.node.size=5 \n",
      "- Fold4: mtry=2, splitrule=gini, min.node.size=5 \n",
      "+ Fold5: mtry=2, splitrule=gini, min.node.size=1 \n",
      "- Fold5: mtry=2, splitrule=gini, min.node.size=1 \n",
      "+ Fold5: mtry=2, splitrule=gini, min.node.size=2 \n",
      "- Fold5: mtry=2, splitrule=gini, min.node.size=2 \n",
      "+ Fold5: mtry=2, splitrule=gini, min.node.size=3 \n",
      "- Fold5: mtry=2, splitrule=gini, min.node.size=3 \n",
      "+ Fold5: mtry=2, splitrule=gini, min.node.size=4 \n",
      "- Fold5: mtry=2, splitrule=gini, min.node.size=4 \n",
      "+ Fold5: mtry=2, splitrule=gini, min.node.size=5 \n",
      "- Fold5: mtry=2, splitrule=gini, min.node.size=5 \n",
      "+ Fold6: mtry=2, splitrule=gini, min.node.size=1 \n",
      "- Fold6: mtry=2, splitrule=gini, min.node.size=1 \n",
      "+ Fold6: mtry=2, splitrule=gini, min.node.size=2 \n",
      "- Fold6: mtry=2, splitrule=gini, min.node.size=2 \n",
      "+ Fold6: mtry=2, splitrule=gini, min.node.size=3 \n",
      "- Fold6: mtry=2, splitrule=gini, min.node.size=3 \n",
      "+ Fold6: mtry=2, splitrule=gini, min.node.size=4 \n",
      "- Fold6: mtry=2, splitrule=gini, min.node.size=4 \n",
      "+ Fold6: mtry=2, splitrule=gini, min.node.size=5 \n",
      "- Fold6: mtry=2, splitrule=gini, min.node.size=5 \n",
      "+ Fold7: mtry=2, splitrule=gini, min.node.size=1 \n",
      "- Fold7: mtry=2, splitrule=gini, min.node.size=1 \n",
      "+ Fold7: mtry=2, splitrule=gini, min.node.size=2 \n",
      "- Fold7: mtry=2, splitrule=gini, min.node.size=2 \n",
      "+ Fold7: mtry=2, splitrule=gini, min.node.size=3 \n",
      "- Fold7: mtry=2, splitrule=gini, min.node.size=3 \n",
      "+ Fold7: mtry=2, splitrule=gini, min.node.size=4 \n",
      "- Fold7: mtry=2, splitrule=gini, min.node.size=4 \n",
      "+ Fold7: mtry=2, splitrule=gini, min.node.size=5 \n",
      "- Fold7: mtry=2, splitrule=gini, min.node.size=5 \n",
      "Aggregating results\n",
      "Selecting tuning parameters\n",
      "Fitting mtry = 2, splitrule = gini, min.node.size = 1 on full training set\n"
     ]
    },
    {
     "data": {
      "text/plain": [
       "Cross-Validated (7 fold) Confusion Matrix \n",
       "\n",
       "(entries are percentual average cell counts across resamples)\n",
       " \n",
       "          Reference\n",
       "Prediction  <=50K  >50K\n",
       "     <=50K   73.5  14.1\n",
       "     >50K     2.4  10.0\n",
       "                            \n",
       " Accuracy (average) : 0.8354\n"
      ]
     },
     "metadata": {},
     "output_type": "display_data"
    },
    {
     "data": {
      "text/plain": [
       "Cross-Validated (7 fold) Confusion Matrix \n",
       "\n",
       "(entries are percentual average cell counts across resamples)\n",
       " \n",
       "          Reference\n",
       "Prediction    0    1\n",
       "         0 57.9 13.4\n",
       "         1  3.7 25.0\n",
       "                            \n",
       " Accuracy (average) : 0.8294\n"
      ]
     },
     "metadata": {},
     "output_type": "display_data"
    }
   ],
   "source": [
    "library(caret)\n",
    "library(ranger)\n",
    "\n",
    "myGrid <- expand.grid(mtry = 2,\n",
    "                       splitrule = c(\"gini\"),\n",
    "                       min.node.size = (c(1:5)))\n",
    "\n",
    "set.seed(123)\n",
    "adult_rf <- train(target ~ ., data = adult, method = \"ranger\", \n",
    "              trControl = trainControl(method =\"cv\", number = 7, verboseIter = TRUE),\n",
    "                              tuneGrid = myGrid)\n",
    "\n",
    "set.seed(123)\n",
    "titanic_rf <- train(target ~ ., data = titanic, method = \"ranger\", \n",
    "               trControl = trainControl(method =\"cv\", number = 7, verboseIter = TRUE), \n",
    "                              tuneGrid = myGrid)\n",
    "\n",
    "confusionMatrix(adult_rf)\n",
    "confusionMatrix(titanic_rf)"
   ]
  },
  {
   "cell_type": "markdown",
   "metadata": {},
   "source": [
    "### 3. Train a decision tree with 10-fold cross validation.  Report the accuracy. "
   ]
  },
  {
   "cell_type": "code",
   "execution_count": 3,
   "metadata": {},
   "outputs": [
    {
     "name": "stdout",
     "output_type": "stream",
     "text": [
      "+ Fold01: cp=0.03686 \n",
      "- Fold01: cp=0.03686 \n",
      "+ Fold02: cp=0.03686 \n",
      "- Fold02: cp=0.03686 \n",
      "+ Fold03: cp=0.03686 \n",
      "- Fold03: cp=0.03686 \n",
      "+ Fold04: cp=0.03686 \n",
      "- Fold04: cp=0.03686 \n",
      "+ Fold05: cp=0.03686 \n",
      "- Fold05: cp=0.03686 \n",
      "+ Fold06: cp=0.03686 \n",
      "- Fold06: cp=0.03686 \n",
      "+ Fold07: cp=0.03686 \n",
      "- Fold07: cp=0.03686 \n",
      "+ Fold08: cp=0.03686 \n",
      "- Fold08: cp=0.03686 \n",
      "+ Fold09: cp=0.03686 \n",
      "- Fold09: cp=0.03686 \n",
      "+ Fold10: cp=0.03686 \n",
      "- Fold10: cp=0.03686 \n",
      "Aggregating results\n",
      "Selecting tuning parameters\n",
      "Fitting cp = 0.0369 on full training set\n",
      "+ Fold01: cp=0.02339 \n",
      "- Fold01: cp=0.02339 \n",
      "+ Fold02: cp=0.02339 \n",
      "- Fold02: cp=0.02339 \n",
      "+ Fold03: cp=0.02339 \n",
      "- Fold03: cp=0.02339 \n",
      "+ Fold04: cp=0.02339 \n",
      "- Fold04: cp=0.02339 \n",
      "+ Fold05: cp=0.02339 \n",
      "- Fold05: cp=0.02339 \n",
      "+ Fold06: cp=0.02339 \n",
      "- Fold06: cp=0.02339 \n",
      "+ Fold07: cp=0.02339 \n",
      "- Fold07: cp=0.02339 \n",
      "+ Fold08: cp=0.02339 \n",
      "- Fold08: cp=0.02339 \n",
      "+ Fold09: cp=0.02339 \n",
      "- Fold09: cp=0.02339 \n",
      "+ Fold10: cp=0.02339 \n",
      "- Fold10: cp=0.02339 \n",
      "Aggregating results\n",
      "Selecting tuning parameters\n",
      "Fitting cp = 0.0234 on full training set\n"
     ]
    },
    {
     "data": {
      "text/plain": [
       "Cross-Validated (10 fold) Confusion Matrix \n",
       "\n",
       "(entries are percentual average cell counts across resamples)\n",
       " \n",
       "          Reference\n",
       "Prediction  <=50K  >50K\n",
       "     <=50K   72.0  12.2\n",
       "     >50K     3.9  11.9\n",
       "                            \n",
       " Accuracy (average) : 0.8388\n"
      ]
     },
     "metadata": {},
     "output_type": "display_data"
    },
    {
     "data": {
      "text/plain": [
       "Cross-Validated (10 fold) Confusion Matrix \n",
       "\n",
       "(entries are percentual average cell counts across resamples)\n",
       " \n",
       "          Reference\n",
       "Prediction    0    1\n",
       "         0 54.4 11.4\n",
       "         1  7.2 26.9\n",
       "                            \n",
       " Accuracy (average) : 0.8137\n"
      ]
     },
     "metadata": {},
     "output_type": "display_data"
    }
   ],
   "source": [
    "#myGridTree <- expand.grid(cp = 5)\n",
    "\n",
    "set.seed(123)\n",
    "adultDT <- train(target~.,data = adult, method = \"rpart\", \n",
    "             trControl = trainControl(method =\"cv\", number = 10, verboseIter = TRUE))\n",
    "\n",
    "set.seed(123)\n",
    "titanicDT <- train(target~.,data = titanic, method = \"rpart\", \n",
    "             trControl = trainControl(method =\"cv\", number = 10, verboseIter = TRUE))\n",
    "\n",
    "confusionMatrix(adultDT)\n",
    "confusionMatrix(titanicDT)"
   ]
  },
  {
   "cell_type": "markdown",
   "metadata": {},
   "source": [
    "### 4.\tWhat are the selection of the hyperparameters (mtry, splitrule, min.mode.size) in the random forest in 2? \n",
    "\n",
    "For the random forest in number two, mtry is set to 2, splitrule is set to gini, and the min.node.size is set to between 1 and 5. The mtry specifies the number of variables to select at each split. The number 2 was selected in order to decrease the complexity of the model and therefore decrease the run time. The split rule of gini specifies to use the Gini Index method to decide where the splits in the tree will occur. Finally, the min.node.size selection tells R the minimum number of observations that should occur in each node."
   ]
  },
  {
   "cell_type": "markdown",
   "metadata": {},
   "source": [
    "### 5. Print out the plot of the random forest."
   ]
  },
  {
   "cell_type": "code",
   "execution_count": 4,
   "metadata": {},
   "outputs": [
    {
     "data": {},
     "metadata": {},
     "output_type": "display_data"
    },
    {
     "data": {},
     "metadata": {},
     "output_type": "display_data"
    },
    {
     "data": {
      "image/png": "[encoded data removed]",
      "text/plain": [
       "plot without title"
      ]
     },
     "metadata": {},
     "output_type": "display_data",
     "source": "R display func"
    },
    {
     "data": {
      "image/png": "[encoded data removed]",
      "text/plain": [
       "plot without title"
      ]
     },
     "metadata": {},
     "output_type": "display_data",
     "source": "R display func"
    }
   ],
   "source": [
    "plot(adult_rf)\n",
    "plot(titanic_rf)"
   ]
  },
  {
   "cell_type": "markdown",
   "metadata": {},
   "source": [
    "### 6. Tune the three hyperparameters of the random forest with mtry running all its possible values, splitrule running all its possible values (gini and extratrees) and min.node.size running from 1 to 20 (adjust as necessary to run faster)"
   ]
  },
  {
   "cell_type": "code",
   "execution_count": null,
   "metadata": {},
   "outputs": [],
   "source": [
    "myGridAdult <- expand.grid(mtry = c(1:ncol(adult)),\n",
    "                       splitrule = c(\"gini\", \"extratrees\"),\n",
    "                       min.node.size = (c(1:4)))\n",
    "\n",
    "set.seed(123)\n",
    "adult_hyper <- train(target ~ ., data = adult, method = \"ranger\", \n",
    "              trControl = trainControl(method =\"cv\", number = 3, verboseIter = TRUE),\n",
    "                              tuneGrid = myGridAdult)\n",
    "\n",
    "myGridTitanic <- expand.grid(mtry = c(1:ncol(titanic)),\n",
    "                       splitrule = c(\"gini\", \"extratrees\"),\n",
    "                       min.node.size = (c(1:4)))\n",
    "\n",
    "set.seed(123)\n",
    "titanic_hyper <- train(target ~ ., data = titanic, method = \"ranger\", \n",
    "               trControl = trainControl(method =\"cv\", number = 3, verboseIter = TRUE), \n",
    "                              tuneGrid = myGridTitanic)"
   ]
  },
  {
   "cell_type": "markdown",
   "metadata": {},
   "source": [
    "### 7.\tPrint out the tuning plot of the random forest.  Does your tuned random forest in 6 achieve better accuracy than the default random forest in 2? "
   ]
  },
  {
   "cell_type": "code",
   "execution_count": null,
   "metadata": {},
   "outputs": [],
   "source": [
    "plot(adult_hyper)\n",
    "plot(titanic_hyper)\n",
    "confusionMatrix(adult_hyper)\n",
    "confusionMatrix(titanic_hyper)"
   ]
  },
  {
   "cell_type": "markdown",
   "metadata": {},
   "source": [
    "The random forest model with tuning parameters outperformed the default random forest model for both the titanic model and adult model. The adult model improved from 0.8357 to 0.8623 while the titanic mode improved from 0.8283 to 0.8316. The improvements in the titanic model are probably not justified by the length of time the program took to run but the improvements in the adult model are likely worth the run time. "
   ]
  },
  {
   "cell_type": "markdown",
   "metadata": {},
   "source": [
    "### 8. Compare the performances of the default glmnet model and a tuned glmnet model. Do you achieve better performance in the tuned glmnet model? "
   ]
  },
  {
   "cell_type": "code",
   "execution_count": null,
   "metadata": {},
   "outputs": [],
   "source": [
    "library(glmnet)\n",
    "\n",
    "set.seed(123)\n",
    "\n",
    "#Default\n",
    "adult_glmnet_default <- train(target ~ ., adult, \n",
    "                              method = \"glmnet\")\n",
    "\n",
    "titanic_glmnet_default <- train(target ~ ., titanic, \n",
    "                                method = \"glmnet\")\n",
    "\n",
    "#Tuned\n",
    "set.seed(123)\n",
    "\n",
    "myControl <- trainControl(method = \"cv\", \n",
    "                          number = 5,\n",
    "                          classProbs = FALSE,\n",
    "                          verboseIter = TRUE)\n",
    "\n",
    "myGrid2 <- expand.grid(alpha = seq(0, 1, .2),\n",
    "                      lambda = seq(0.001, 2, length = 15))\n",
    "\n",
    "adult_glmnet_tuned <- train(target ~ ., adult, \n",
    "                            method = \"glmnet\", \n",
    "                            trControl = myControl,\n",
    "                            tuneGrid = myGrid2)\n",
    "\n",
    "titanic_glmnet_tuned <- train(target ~ ., titanic, \n",
    "                              method = \"glmnet\", \n",
    "                              trControl = myControl,\n",
    "                              tuneGrid = myGrid2)\n",
    "\n",
    "confusionMatrix(adult_glmnet_default)\n",
    "confusionMatrix(adult_glmnet_tuned)\n",
    "\n",
    "confusionMatrix(titanic_glmnet_default)\n",
    "confusionMatrix(titanic_glmnet_tuned)"
   ]
  },
  {
   "cell_type": "markdown",
   "metadata": {},
   "source": [
    "Customizing the tuning resulted in a slightly more accurate model for the titanic data set while barely improved the accuracy of the model for the adult data set. The accuracy of the titanic model improved from 0.7997 to 0.8103 while the adult model only improved from 0.8474 to 0.8475."
   ]
  },
  {
   "cell_type": "code",
   "execution_count": null,
   "metadata": {},
   "outputs": [],
   "source": []
  }
 ],
 "metadata": {
  "kernelspec": {
   "display_name": "R",
   "language": "R",
   "name": "ir"
  },
  "language_info": {
   "codemirror_mode": "r",
   "file_extension": ".r",
   "mimetype": "text/x-r-source",
   "name": "R",
   "pygments_lexer": "r",
   "version": "3.5.1"
  }
 },
 "nbformat": 4,
 "nbformat_minor": 2
}
